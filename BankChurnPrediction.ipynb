{
  "nbformat": 4,
  "nbformat_minor": 0,
  "metadata": {
    "colab": {
      "provenance": [],
      "authorship_tag": "ABX9TyMs8GA2BlaYR+QqlvgqL6F4",
      "include_colab_link": true
    },
    "kernelspec": {
      "name": "python3",
      "display_name": "Python 3"
    },
    "language_info": {
      "name": "python"
    }
  },
  "cells": [
    {
      "cell_type": "markdown",
      "metadata": {
        "id": "view-in-github",
        "colab_type": "text"
      },
      "source": [
        "<a href=\"https://colab.research.google.com/github/mrozgurer/Bank-Churn-Prediction/blob/main/7_BankChurnPrediction.ipynb\" target=\"_parent\"><img src=\"https://colab.research.google.com/assets/colab-badge.svg\" alt=\"Open In Colab\"/></a>"
      ]
    },
    {
      "cell_type": "markdown",
      "source": [
        "#Problem Definitions and Research Questions#\n"
      ],
      "metadata": {
        "id": "OPOTUenNauxx"
      }
    },
    {
      "cell_type": "markdown",
      "source": [
        "**Background Information**: I am a data scientist working for a bank. The bank aims to understand why some of their customers exited within the last 6 months and find out how to accurately predict if a customer will exit within the next 6 months."
      ],
      "metadata": {
        "id": "481saSmqa0rW"
      }
    },
    {
      "cell_type": "markdown",
      "source": [
        "**Problem Definition:** Some customers exited the bank within the last 6 months, so we must build a model that will accurately predict if a customer will exit within the next 6 months and what factors mights impact their decision."
      ],
      "metadata": {
        "id": "KDcw4dlwbj4b"
      }
    },
    {
      "cell_type": "markdown",
      "source": [
        "**Research Questions:** \n",
        "\n",
        "What are the factors that might impact a customer's decision on exiting the bank?\n",
        "\n",
        "What are the shared characteristics and attributes of the customers who exited the bank?\n",
        "\n",
        "What is the best neural network model that would help the bank improve its services?\n",
        "\n",
        "What are some business strategies that the bank may use in order to reduce and minimize exiting behavior of customers?"
      ],
      "metadata": {
        "id": "hwr7loEncE6d"
      }
    },
    {
      "cell_type": "code",
      "source": [
        "import pandas as pd\n",
        "import numpy as np\n",
        "import seaborn as sns\n",
        "import matplotlib.pyplot as plt\n",
        "%matplotlib inline\n",
        "\n",
        "# Library to split data, encode variables, and standardize the data\n",
        "from sklearn.model_selection import train_test_split\n",
        "from sklearn.preprocessing import OneHotEncoder\n",
        "from sklearn import preprocessing\n",
        "from sklearn.preprocessing import StandardScaler\n",
        "\n",
        "# Libtune to tune model, get different metric scores\n",
        "from sklearn import metrics\n",
        "from sklearn.metrics import confusion_matrix, classification_report, accuracy_score, precision_score, recall_score\n",
        "from sklearn.metrics import f1_score, roc_auc_score\n",
        "from sklearn.model_selection import RandomizedSearchCV\n",
        "\n",
        "from sklearn.model_selection import KFold\n",
        "from sklearn.model_selection import cross_val_score\n",
        "\n",
        "# To undersample and oversample the data\n",
        "from imblearn.over_sampling import SMOTE\n",
        "from imblearn.under_sampling import RandomUnderSampler\n",
        "\n",
        "# Library to avoid the warnings\n",
        "import warnings\n",
        "warnings.filterwarnings(\"ignore\")\n",
        "\n",
        "# importing different functions to build models\n",
        "import tensorflow\n",
        "import keras\n",
        "from tensorflow.keras import backend\n",
        "from tensorflow.keras.models import Sequential\n",
        "from tensorflow.keras.layers import Dense\n",
        "from tensorflow.keras.utils import to_categorical\n",
        "from tensorflow.keras.optimizers import Adam\n",
        "from tensorflow.keras.optimizers import RMSprop\n",
        "\n",
        "from tensorflow.keras.callbacks import ModelCheckpoint, ReduceLROnPlateau\n",
        "from tensorflow.keras import losses\n",
        "from tensorflow.keras import optimizers\n",
        "from tensorflow.keras import Sequential\n",
        "from tensorflow.keras.layers import Dense, Dropout, BatchNormalization"
      ],
      "metadata": {
        "id": "0y7APpXyBkM9"
      },
      "execution_count": null,
      "outputs": []
    },
    {
      "cell_type": "code",
      "source": [
        "from google.colab import drive\n",
        "drive.mount('/content/drive')"
      ],
      "metadata": {
        "colab": {
          "base_uri": "https://localhost:8080/"
        },
        "id": "UX4KNTTGCQWQ",
        "outputId": "23f5dd93-c3f5-4a9b-c040-37774cc58ded"
      },
      "execution_count": null,
      "outputs": [
        {
          "output_type": "stream",
          "name": "stdout",
          "text": [
            "Drive already mounted at /content/drive; to attempt to forcibly remount, call drive.mount(\"/content/drive\", force_remount=True).\n"
          ]
        }
      ]
    },
    {
      "cell_type": "code",
      "source": [
        "df=pd.read_csv('/content/drive/MyDrive/Churn.csv')"
      ],
      "metadata": {
        "id": "nilI4NZDCii_"
      },
      "execution_count": null,
      "outputs": []
    },
    {
      "cell_type": "code",
      "source": [
        "bank=df.copy()"
      ],
      "metadata": {
        "id": "RCgQzDGyCsl0"
      },
      "execution_count": null,
      "outputs": []
    },
    {
      "cell_type": "code",
      "source": [
        "bank.info()"
      ],
      "metadata": {
        "colab": {
          "base_uri": "https://localhost:8080/"
        },
        "id": "PC9WrpWCCw5w",
        "outputId": "2a5bef92-712c-490a-9242-d66ff724615c"
      },
      "execution_count": null,
      "outputs": [
        {
          "output_type": "stream",
          "name": "stdout",
          "text": [
            "<class 'pandas.core.frame.DataFrame'>\n",
            "RangeIndex: 10000 entries, 0 to 9999\n",
            "Data columns (total 14 columns):\n",
            " #   Column           Non-Null Count  Dtype  \n",
            "---  ------           --------------  -----  \n",
            " 0   RowNumber        10000 non-null  int64  \n",
            " 1   CustomerId       10000 non-null  int64  \n",
            " 2   Surname          10000 non-null  object \n",
            " 3   CreditScore      10000 non-null  int64  \n",
            " 4   Geography        10000 non-null  object \n",
            " 5   Gender           10000 non-null  object \n",
            " 6   Age              10000 non-null  int64  \n",
            " 7   Tenure           10000 non-null  int64  \n",
            " 8   Balance          10000 non-null  float64\n",
            " 9   NumOfProducts    10000 non-null  int64  \n",
            " 10  HasCrCard        10000 non-null  int64  \n",
            " 11  IsActiveMember   10000 non-null  int64  \n",
            " 12  EstimatedSalary  10000 non-null  float64\n",
            " 13  Exited           10000 non-null  int64  \n",
            "dtypes: float64(2), int64(9), object(3)\n",
            "memory usage: 1.1+ MB\n"
          ]
        }
      ]
    },
    {
      "cell_type": "markdown",
      "source": [
        "There are 10000 entries, and non-null count of each variable is 10000 as well, meaning that none of the variables has missing value. "
      ],
      "metadata": {
        "id": "9lGEkO-RZ3Da"
      }
    },
    {
      "cell_type": "code",
      "source": [
        "pd.set_option('display.max_columns', None)\n",
        "pd.set_option('display.max_rows', 200)"
      ],
      "metadata": {
        "id": "Hv9rWDCOCyy7"
      },
      "execution_count": null,
      "outputs": []
    },
    {
      "cell_type": "code",
      "source": [
        "print(f'There are {bank.shape[0]} rows and {bank.shape[1]} columns in the dataset')"
      ],
      "metadata": {
        "colab": {
          "base_uri": "https://localhost:8080/"
        },
        "id": "L7si7sD0Y5r2",
        "outputId": "5868f2e9-0cfe-4276-9b41-c620cf2b0797"
      },
      "execution_count": null,
      "outputs": [
        {
          "output_type": "stream",
          "name": "stdout",
          "text": [
            "There are 10000 rows and 14 columns in the dataset\n"
          ]
        }
      ]
    },
    {
      "cell_type": "markdown",
      "source": [
        "The dataset is large enough to be split to train, validation, and test sets."
      ],
      "metadata": {
        "id": "Tx6V2KX9ZkkX"
      }
    },
    {
      "cell_type": "code",
      "source": [
        "bank.head()"
      ],
      "metadata": {
        "colab": {
          "base_uri": "https://localhost:8080/",
          "height": 270
        },
        "id": "0qvpTXyVZRfk",
        "outputId": "cfb1110e-9940-4328-ae7e-69e83220f8b5"
      },
      "execution_count": null,
      "outputs": [
        {
          "output_type": "execute_result",
          "data": {
            "text/plain": [
              "   RowNumber  CustomerId   Surname  CreditScore Geography  Gender  Age  \\\n",
              "0          1    15634602  Hargrave          619    France  Female   42   \n",
              "1          2    15647311      Hill          608     Spain  Female   41   \n",
              "2          3    15619304      Onio          502    France  Female   42   \n",
              "3          4    15701354      Boni          699    France  Female   39   \n",
              "4          5    15737888  Mitchell          850     Spain  Female   43   \n",
              "\n",
              "   Tenure    Balance  NumOfProducts  HasCrCard  IsActiveMember  \\\n",
              "0       2       0.00              1          1               1   \n",
              "1       1   83807.86              1          0               1   \n",
              "2       8  159660.80              3          1               0   \n",
              "3       1       0.00              2          0               0   \n",
              "4       2  125510.82              1          1               1   \n",
              "\n",
              "   EstimatedSalary  Exited  \n",
              "0        101348.88       1  \n",
              "1        112542.58       0  \n",
              "2        113931.57       1  \n",
              "3         93826.63       0  \n",
              "4         79084.10       0  "
            ],
            "text/html": [
              "\n",
              "  <div id=\"df-e105594f-c32a-419b-93ca-d5c6fdab4257\">\n",
              "    <div class=\"colab-df-container\">\n",
              "      <div>\n",
              "<style scoped>\n",
              "    .dataframe tbody tr th:only-of-type {\n",
              "        vertical-align: middle;\n",
              "    }\n",
              "\n",
              "    .dataframe tbody tr th {\n",
              "        vertical-align: top;\n",
              "    }\n",
              "\n",
              "    .dataframe thead th {\n",
              "        text-align: right;\n",
              "    }\n",
              "</style>\n",
              "<table border=\"1\" class=\"dataframe\">\n",
              "  <thead>\n",
              "    <tr style=\"text-align: right;\">\n",
              "      <th></th>\n",
              "      <th>RowNumber</th>\n",
              "      <th>CustomerId</th>\n",
              "      <th>Surname</th>\n",
              "      <th>CreditScore</th>\n",
              "      <th>Geography</th>\n",
              "      <th>Gender</th>\n",
              "      <th>Age</th>\n",
              "      <th>Tenure</th>\n",
              "      <th>Balance</th>\n",
              "      <th>NumOfProducts</th>\n",
              "      <th>HasCrCard</th>\n",
              "      <th>IsActiveMember</th>\n",
              "      <th>EstimatedSalary</th>\n",
              "      <th>Exited</th>\n",
              "    </tr>\n",
              "  </thead>\n",
              "  <tbody>\n",
              "    <tr>\n",
              "      <th>0</th>\n",
              "      <td>1</td>\n",
              "      <td>15634602</td>\n",
              "      <td>Hargrave</td>\n",
              "      <td>619</td>\n",
              "      <td>France</td>\n",
              "      <td>Female</td>\n",
              "      <td>42</td>\n",
              "      <td>2</td>\n",
              "      <td>0.00</td>\n",
              "      <td>1</td>\n",
              "      <td>1</td>\n",
              "      <td>1</td>\n",
              "      <td>101348.88</td>\n",
              "      <td>1</td>\n",
              "    </tr>\n",
              "    <tr>\n",
              "      <th>1</th>\n",
              "      <td>2</td>\n",
              "      <td>15647311</td>\n",
              "      <td>Hill</td>\n",
              "      <td>608</td>\n",
              "      <td>Spain</td>\n",
              "      <td>Female</td>\n",
              "      <td>41</td>\n",
              "      <td>1</td>\n",
              "      <td>83807.86</td>\n",
              "      <td>1</td>\n",
              "      <td>0</td>\n",
              "      <td>1</td>\n",
              "      <td>112542.58</td>\n",
              "      <td>0</td>\n",
              "    </tr>\n",
              "    <tr>\n",
              "      <th>2</th>\n",
              "      <td>3</td>\n",
              "      <td>15619304</td>\n",
              "      <td>Onio</td>\n",
              "      <td>502</td>\n",
              "      <td>France</td>\n",
              "      <td>Female</td>\n",
              "      <td>42</td>\n",
              "      <td>8</td>\n",
              "      <td>159660.80</td>\n",
              "      <td>3</td>\n",
              "      <td>1</td>\n",
              "      <td>0</td>\n",
              "      <td>113931.57</td>\n",
              "      <td>1</td>\n",
              "    </tr>\n",
              "    <tr>\n",
              "      <th>3</th>\n",
              "      <td>4</td>\n",
              "      <td>15701354</td>\n",
              "      <td>Boni</td>\n",
              "      <td>699</td>\n",
              "      <td>France</td>\n",
              "      <td>Female</td>\n",
              "      <td>39</td>\n",
              "      <td>1</td>\n",
              "      <td>0.00</td>\n",
              "      <td>2</td>\n",
              "      <td>0</td>\n",
              "      <td>0</td>\n",
              "      <td>93826.63</td>\n",
              "      <td>0</td>\n",
              "    </tr>\n",
              "    <tr>\n",
              "      <th>4</th>\n",
              "      <td>5</td>\n",
              "      <td>15737888</td>\n",
              "      <td>Mitchell</td>\n",
              "      <td>850</td>\n",
              "      <td>Spain</td>\n",
              "      <td>Female</td>\n",
              "      <td>43</td>\n",
              "      <td>2</td>\n",
              "      <td>125510.82</td>\n",
              "      <td>1</td>\n",
              "      <td>1</td>\n",
              "      <td>1</td>\n",
              "      <td>79084.10</td>\n",
              "      <td>0</td>\n",
              "    </tr>\n",
              "  </tbody>\n",
              "</table>\n",
              "</div>\n",
              "      <button class=\"colab-df-convert\" onclick=\"convertToInteractive('df-e105594f-c32a-419b-93ca-d5c6fdab4257')\"\n",
              "              title=\"Convert this dataframe to an interactive table.\"\n",
              "              style=\"display:none;\">\n",
              "        \n",
              "  <svg xmlns=\"http://www.w3.org/2000/svg\" height=\"24px\"viewBox=\"0 0 24 24\"\n",
              "       width=\"24px\">\n",
              "    <path d=\"M0 0h24v24H0V0z\" fill=\"none\"/>\n",
              "    <path d=\"M18.56 5.44l.94 2.06.94-2.06 2.06-.94-2.06-.94-.94-2.06-.94 2.06-2.06.94zm-11 1L8.5 8.5l.94-2.06 2.06-.94-2.06-.94L8.5 2.5l-.94 2.06-2.06.94zm10 10l.94 2.06.94-2.06 2.06-.94-2.06-.94-.94-2.06-.94 2.06-2.06.94z\"/><path d=\"M17.41 7.96l-1.37-1.37c-.4-.4-.92-.59-1.43-.59-.52 0-1.04.2-1.43.59L10.3 9.45l-7.72 7.72c-.78.78-.78 2.05 0 2.83L4 21.41c.39.39.9.59 1.41.59.51 0 1.02-.2 1.41-.59l7.78-7.78 2.81-2.81c.8-.78.8-2.07 0-2.86zM5.41 20L4 18.59l7.72-7.72 1.47 1.35L5.41 20z\"/>\n",
              "  </svg>\n",
              "      </button>\n",
              "      \n",
              "  <style>\n",
              "    .colab-df-container {\n",
              "      display:flex;\n",
              "      flex-wrap:wrap;\n",
              "      gap: 12px;\n",
              "    }\n",
              "\n",
              "    .colab-df-convert {\n",
              "      background-color: #E8F0FE;\n",
              "      border: none;\n",
              "      border-radius: 50%;\n",
              "      cursor: pointer;\n",
              "      display: none;\n",
              "      fill: #1967D2;\n",
              "      height: 32px;\n",
              "      padding: 0 0 0 0;\n",
              "      width: 32px;\n",
              "    }\n",
              "\n",
              "    .colab-df-convert:hover {\n",
              "      background-color: #E2EBFA;\n",
              "      box-shadow: 0px 1px 2px rgba(60, 64, 67, 0.3), 0px 1px 3px 1px rgba(60, 64, 67, 0.15);\n",
              "      fill: #174EA6;\n",
              "    }\n",
              "\n",
              "    [theme=dark] .colab-df-convert {\n",
              "      background-color: #3B4455;\n",
              "      fill: #D2E3FC;\n",
              "    }\n",
              "\n",
              "    [theme=dark] .colab-df-convert:hover {\n",
              "      background-color: #434B5C;\n",
              "      box-shadow: 0px 1px 3px 1px rgba(0, 0, 0, 0.15);\n",
              "      filter: drop-shadow(0px 1px 2px rgba(0, 0, 0, 0.3));\n",
              "      fill: #FFFFFF;\n",
              "    }\n",
              "  </style>\n",
              "\n",
              "      <script>\n",
              "        const buttonEl =\n",
              "          document.querySelector('#df-e105594f-c32a-419b-93ca-d5c6fdab4257 button.colab-df-convert');\n",
              "        buttonEl.style.display =\n",
              "          google.colab.kernel.accessAllowed ? 'block' : 'none';\n",
              "\n",
              "        async function convertToInteractive(key) {\n",
              "          const element = document.querySelector('#df-e105594f-c32a-419b-93ca-d5c6fdab4257');\n",
              "          const dataTable =\n",
              "            await google.colab.kernel.invokeFunction('convertToInteractive',\n",
              "                                                     [key], {});\n",
              "          if (!dataTable) return;\n",
              "\n",
              "          const docLinkHtml = 'Like what you see? Visit the ' +\n",
              "            '<a target=\"_blank\" href=https://colab.research.google.com/notebooks/data_table.ipynb>data table notebook</a>'\n",
              "            + ' to learn more about interactive tables.';\n",
              "          element.innerHTML = '';\n",
              "          dataTable['output_type'] = 'display_data';\n",
              "          await google.colab.output.renderOutput(dataTable, element);\n",
              "          const docLink = document.createElement('div');\n",
              "          docLink.innerHTML = docLinkHtml;\n",
              "          element.appendChild(docLink);\n",
              "        }\n",
              "      </script>\n",
              "    </div>\n",
              "  </div>\n",
              "  "
            ]
          },
          "metadata": {},
          "execution_count": 71
        }
      ]
    },
    {
      "cell_type": "code",
      "source": [
        "# I will drop RowNumber, Surname, and CustomerId, because they are not meaningful variables for the purposes of statistical analysis\n",
        "\n",
        "bank.drop('RowNumber', axis=1, inplace=True)\n",
        "bank.drop('CustomerId', axis=1, inplace=True)\n",
        "bank.drop('Surname', axis=1, inplace=True)"
      ],
      "metadata": {
        "id": "QpAD2Vt4Zyrb"
      },
      "execution_count": null,
      "outputs": []
    },
    {
      "cell_type": "code",
      "source": [
        "# I want to label the variables HasCrCard and IsActiveMember as categorical, because although they include numbers, those numbers refer to a category\n",
        "\n",
        "bank[['HasCrCard','IsActiveMember']]=bank[['HasCrCard','IsActiveMember']].astype('category')\n",
        "\n",
        "# Also, I want to label the variables Geography and Gender as categorical, not object, for the purposes of consistency in analysis.\n",
        "\n",
        "bank[['Geography','Gender']]=bank[['Geography','Gender']].astype('category')"
      ],
      "metadata": {
        "id": "cq9lPlqD-4w9"
      },
      "execution_count": null,
      "outputs": []
    },
    {
      "cell_type": "code",
      "source": [
        "# Next, I want to replace the numbers in HasCrCard and IsActiveMember with corresponding strings, so it will be easier to understand which category is which when I encode them\n",
        "\n",
        "bank[\"HasCrCard\"].replace(1, 'Yes' , inplace=True)\n",
        "\n",
        "bank[\"HasCrCard\"].replace(0, 'No', inplace=True)"
      ],
      "metadata": {
        "id": "EDcp2K4yHruo"
      },
      "execution_count": null,
      "outputs": []
    },
    {
      "cell_type": "code",
      "source": [
        "bank[\"IsActiveMember\"].replace(1, 'Yes' , inplace=True)\n",
        "\n",
        "bank[\"IsActiveMember\"].replace(0, 'No', inplace=True)"
      ],
      "metadata": {
        "id": "D4zn7ZnsIs2Q"
      },
      "execution_count": null,
      "outputs": []
    },
    {
      "cell_type": "code",
      "source": [
        "bank.duplicated().sum()"
      ],
      "metadata": {
        "colab": {
          "base_uri": "https://localhost:8080/"
        },
        "id": "JLV8vWBp2ZFU",
        "outputId": "5f998166-1931-44be-f049-cccefe81a7e1"
      },
      "execution_count": null,
      "outputs": [
        {
          "output_type": "execute_result",
          "data": {
            "text/plain": [
              "0"
            ]
          },
          "metadata": {},
          "execution_count": 76
        }
      ]
    },
    {
      "cell_type": "code",
      "source": [
        "# The code below will check the number of unique values in each variable\n",
        "\n",
        "bank.nunique()"
      ],
      "metadata": {
        "colab": {
          "base_uri": "https://localhost:8080/"
        },
        "id": "1vpDhrCCa9Fo",
        "outputId": "9f7b070b-7e61-4f3e-de77-9c559fd66b3a"
      },
      "execution_count": null,
      "outputs": [
        {
          "output_type": "execute_result",
          "data": {
            "text/plain": [
              "CreditScore         460\n",
              "Geography             3\n",
              "Gender                2\n",
              "Age                  70\n",
              "Tenure               11\n",
              "Balance            6382\n",
              "NumOfProducts         4\n",
              "HasCrCard             2\n",
              "IsActiveMember        2\n",
              "EstimatedSalary    9999\n",
              "Exited                2\n",
              "dtype: int64"
            ]
          },
          "metadata": {},
          "execution_count": 77
        }
      ]
    },
    {
      "cell_type": "code",
      "source": [
        "bank['NumOfProducts'].value_counts()"
      ],
      "metadata": {
        "colab": {
          "base_uri": "https://localhost:8080/"
        },
        "id": "TXMNXuDaboTu",
        "outputId": "fd6e4178-da56-4777-c6e4-da3aebcc172f"
      },
      "execution_count": null,
      "outputs": [
        {
          "output_type": "execute_result",
          "data": {
            "text/plain": [
              "1    5084\n",
              "2    4590\n",
              "3     266\n",
              "4      60\n",
              "Name: NumOfProducts, dtype: int64"
            ]
          },
          "metadata": {},
          "execution_count": 78
        }
      ]
    },
    {
      "cell_type": "code",
      "source": [
        "bank['Geography'].value_counts()"
      ],
      "metadata": {
        "colab": {
          "base_uri": "https://localhost:8080/"
        },
        "id": "H5ybErTgb94j",
        "outputId": "bc406a2a-db70-4781-b5a8-4fa4e1f8e2ad"
      },
      "execution_count": null,
      "outputs": [
        {
          "output_type": "execute_result",
          "data": {
            "text/plain": [
              "France     5014\n",
              "Germany    2509\n",
              "Spain      2477\n",
              "Name: Geography, dtype: int64"
            ]
          },
          "metadata": {},
          "execution_count": 79
        }
      ]
    },
    {
      "cell_type": "markdown",
      "source": [
        "#Exploratory Data Analysis#"
      ],
      "metadata": {
        "id": "MogQMxGpyPLi"
      }
    },
    {
      "cell_type": "code",
      "source": [
        "bank.describe().T"
      ],
      "metadata": {
        "colab": {
          "base_uri": "https://localhost:8080/",
          "height": 269
        },
        "id": "f6uF5RP1dFNL",
        "outputId": "8b11406e-d54e-413d-d0e6-7568df86c373"
      },
      "execution_count": null,
      "outputs": [
        {
          "output_type": "execute_result",
          "data": {
            "text/plain": [
              "                   count           mean           std     min       25%  \\\n",
              "CreditScore      10000.0     650.528800     96.653299  350.00    584.00   \n",
              "Age              10000.0      38.921800     10.487806   18.00     32.00   \n",
              "Tenure           10000.0       5.012800      2.892174    0.00      3.00   \n",
              "Balance          10000.0   76485.889288  62397.405202    0.00      0.00   \n",
              "NumOfProducts    10000.0       1.530200      0.581654    1.00      1.00   \n",
              "EstimatedSalary  10000.0  100090.239881  57510.492818   11.58  51002.11   \n",
              "Exited           10000.0       0.203700      0.402769    0.00      0.00   \n",
              "\n",
              "                        50%          75%        max  \n",
              "CreditScore         652.000     718.0000     850.00  \n",
              "Age                  37.000      44.0000      92.00  \n",
              "Tenure                5.000       7.0000      10.00  \n",
              "Balance           97198.540  127644.2400  250898.09  \n",
              "NumOfProducts         1.000       2.0000       4.00  \n",
              "EstimatedSalary  100193.915  149388.2475  199992.48  \n",
              "Exited                0.000       0.0000       1.00  "
            ],
            "text/html": [
              "\n",
              "  <div id=\"df-f8a7aafd-9fd7-4223-9531-f3f4b3aa06f3\">\n",
              "    <div class=\"colab-df-container\">\n",
              "      <div>\n",
              "<style scoped>\n",
              "    .dataframe tbody tr th:only-of-type {\n",
              "        vertical-align: middle;\n",
              "    }\n",
              "\n",
              "    .dataframe tbody tr th {\n",
              "        vertical-align: top;\n",
              "    }\n",
              "\n",
              "    .dataframe thead th {\n",
              "        text-align: right;\n",
              "    }\n",
              "</style>\n",
              "<table border=\"1\" class=\"dataframe\">\n",
              "  <thead>\n",
              "    <tr style=\"text-align: right;\">\n",
              "      <th></th>\n",
              "      <th>count</th>\n",
              "      <th>mean</th>\n",
              "      <th>std</th>\n",
              "      <th>min</th>\n",
              "      <th>25%</th>\n",
              "      <th>50%</th>\n",
              "      <th>75%</th>\n",
              "      <th>max</th>\n",
              "    </tr>\n",
              "  </thead>\n",
              "  <tbody>\n",
              "    <tr>\n",
              "      <th>CreditScore</th>\n",
              "      <td>10000.0</td>\n",
              "      <td>650.528800</td>\n",
              "      <td>96.653299</td>\n",
              "      <td>350.00</td>\n",
              "      <td>584.00</td>\n",
              "      <td>652.000</td>\n",
              "      <td>718.0000</td>\n",
              "      <td>850.00</td>\n",
              "    </tr>\n",
              "    <tr>\n",
              "      <th>Age</th>\n",
              "      <td>10000.0</td>\n",
              "      <td>38.921800</td>\n",
              "      <td>10.487806</td>\n",
              "      <td>18.00</td>\n",
              "      <td>32.00</td>\n",
              "      <td>37.000</td>\n",
              "      <td>44.0000</td>\n",
              "      <td>92.00</td>\n",
              "    </tr>\n",
              "    <tr>\n",
              "      <th>Tenure</th>\n",
              "      <td>10000.0</td>\n",
              "      <td>5.012800</td>\n",
              "      <td>2.892174</td>\n",
              "      <td>0.00</td>\n",
              "      <td>3.00</td>\n",
              "      <td>5.000</td>\n",
              "      <td>7.0000</td>\n",
              "      <td>10.00</td>\n",
              "    </tr>\n",
              "    <tr>\n",
              "      <th>Balance</th>\n",
              "      <td>10000.0</td>\n",
              "      <td>76485.889288</td>\n",
              "      <td>62397.405202</td>\n",
              "      <td>0.00</td>\n",
              "      <td>0.00</td>\n",
              "      <td>97198.540</td>\n",
              "      <td>127644.2400</td>\n",
              "      <td>250898.09</td>\n",
              "    </tr>\n",
              "    <tr>\n",
              "      <th>NumOfProducts</th>\n",
              "      <td>10000.0</td>\n",
              "      <td>1.530200</td>\n",
              "      <td>0.581654</td>\n",
              "      <td>1.00</td>\n",
              "      <td>1.00</td>\n",
              "      <td>1.000</td>\n",
              "      <td>2.0000</td>\n",
              "      <td>4.00</td>\n",
              "    </tr>\n",
              "    <tr>\n",
              "      <th>EstimatedSalary</th>\n",
              "      <td>10000.0</td>\n",
              "      <td>100090.239881</td>\n",
              "      <td>57510.492818</td>\n",
              "      <td>11.58</td>\n",
              "      <td>51002.11</td>\n",
              "      <td>100193.915</td>\n",
              "      <td>149388.2475</td>\n",
              "      <td>199992.48</td>\n",
              "    </tr>\n",
              "    <tr>\n",
              "      <th>Exited</th>\n",
              "      <td>10000.0</td>\n",
              "      <td>0.203700</td>\n",
              "      <td>0.402769</td>\n",
              "      <td>0.00</td>\n",
              "      <td>0.00</td>\n",
              "      <td>0.000</td>\n",
              "      <td>0.0000</td>\n",
              "      <td>1.00</td>\n",
              "    </tr>\n",
              "  </tbody>\n",
              "</table>\n",
              "</div>\n",
              "      <button class=\"colab-df-convert\" onclick=\"convertToInteractive('df-f8a7aafd-9fd7-4223-9531-f3f4b3aa06f3')\"\n",
              "              title=\"Convert this dataframe to an interactive table.\"\n",
              "              style=\"display:none;\">\n",
              "        \n",
              "  <svg xmlns=\"http://www.w3.org/2000/svg\" height=\"24px\"viewBox=\"0 0 24 24\"\n",
              "       width=\"24px\">\n",
              "    <path d=\"M0 0h24v24H0V0z\" fill=\"none\"/>\n",
              "    <path d=\"M18.56 5.44l.94 2.06.94-2.06 2.06-.94-2.06-.94-.94-2.06-.94 2.06-2.06.94zm-11 1L8.5 8.5l.94-2.06 2.06-.94-2.06-.94L8.5 2.5l-.94 2.06-2.06.94zm10 10l.94 2.06.94-2.06 2.06-.94-2.06-.94-.94-2.06-.94 2.06-2.06.94z\"/><path d=\"M17.41 7.96l-1.37-1.37c-.4-.4-.92-.59-1.43-.59-.52 0-1.04.2-1.43.59L10.3 9.45l-7.72 7.72c-.78.78-.78 2.05 0 2.83L4 21.41c.39.39.9.59 1.41.59.51 0 1.02-.2 1.41-.59l7.78-7.78 2.81-2.81c.8-.78.8-2.07 0-2.86zM5.41 20L4 18.59l7.72-7.72 1.47 1.35L5.41 20z\"/>\n",
              "  </svg>\n",
              "      </button>\n",
              "      \n",
              "  <style>\n",
              "    .colab-df-container {\n",
              "      display:flex;\n",
              "      flex-wrap:wrap;\n",
              "      gap: 12px;\n",
              "    }\n",
              "\n",
              "    .colab-df-convert {\n",
              "      background-color: #E8F0FE;\n",
              "      border: none;\n",
              "      border-radius: 50%;\n",
              "      cursor: pointer;\n",
              "      display: none;\n",
              "      fill: #1967D2;\n",
              "      height: 32px;\n",
              "      padding: 0 0 0 0;\n",
              "      width: 32px;\n",
              "    }\n",
              "\n",
              "    .colab-df-convert:hover {\n",
              "      background-color: #E2EBFA;\n",
              "      box-shadow: 0px 1px 2px rgba(60, 64, 67, 0.3), 0px 1px 3px 1px rgba(60, 64, 67, 0.15);\n",
              "      fill: #174EA6;\n",
              "    }\n",
              "\n",
              "    [theme=dark] .colab-df-convert {\n",
              "      background-color: #3B4455;\n",
              "      fill: #D2E3FC;\n",
              "    }\n",
              "\n",
              "    [theme=dark] .colab-df-convert:hover {\n",
              "      background-color: #434B5C;\n",
              "      box-shadow: 0px 1px 3px 1px rgba(0, 0, 0, 0.15);\n",
              "      filter: drop-shadow(0px 1px 2px rgba(0, 0, 0, 0.3));\n",
              "      fill: #FFFFFF;\n",
              "    }\n",
              "  </style>\n",
              "\n",
              "      <script>\n",
              "        const buttonEl =\n",
              "          document.querySelector('#df-f8a7aafd-9fd7-4223-9531-f3f4b3aa06f3 button.colab-df-convert');\n",
              "        buttonEl.style.display =\n",
              "          google.colab.kernel.accessAllowed ? 'block' : 'none';\n",
              "\n",
              "        async function convertToInteractive(key) {\n",
              "          const element = document.querySelector('#df-f8a7aafd-9fd7-4223-9531-f3f4b3aa06f3');\n",
              "          const dataTable =\n",
              "            await google.colab.kernel.invokeFunction('convertToInteractive',\n",
              "                                                     [key], {});\n",
              "          if (!dataTable) return;\n",
              "\n",
              "          const docLinkHtml = 'Like what you see? Visit the ' +\n",
              "            '<a target=\"_blank\" href=https://colab.research.google.com/notebooks/data_table.ipynb>data table notebook</a>'\n",
              "            + ' to learn more about interactive tables.';\n",
              "          element.innerHTML = '';\n",
              "          dataTable['output_type'] = 'display_data';\n",
              "          await google.colab.output.renderOutput(dataTable, element);\n",
              "          const docLink = document.createElement('div');\n",
              "          docLink.innerHTML = docLinkHtml;\n",
              "          element.appendChild(docLink);\n",
              "        }\n",
              "      </script>\n",
              "    </div>\n",
              "  </div>\n",
              "  "
            ]
          },
          "metadata": {},
          "execution_count": 80
        }
      ]
    },
    {
      "cell_type": "markdown",
      "source": [
        "##Univariate Analyses##"
      ],
      "metadata": {
        "id": "qjJXUoS6yI8y"
      }
    },
    {
      "cell_type": "code",
      "source": [
        "# I am creating a function that will plot the histogram and the boxplot on the same scale, so it will be easier to analyze the variables one by one.\n",
        "\n",
        "def histogram_boxplot(data, feature, figsize=(12, 7), kde=True, bins=None):\n",
        "    \"\"\"\n",
        "    data: dataframe which is tour in our case\n",
        "    feature: dataframe column for numerical variables\n",
        "    figsize: size of figure\n",
        "    kde: it shows the density curve\n",
        "    bins: number of bins for histogram\n",
        "    \"\"\"\n",
        "    f2, (ax_box2, ax_hist2) = plt.subplots(\n",
        "        nrows=2,  # Number of rows of the subplot grid\n",
        "        sharex=True,  # x-axis will be shared among all subplots\n",
        "        gridspec_kw={\"height_ratios\": (0.25, 0.75)},\n",
        "        figsize=figsize,\n",
        "    )  # creating the 2 subplots\n",
        "    sns.boxplot(data=data, x=feature, ax=ax_box2, showmeans=True, color=\"pink\")  # boxplot will be created and a star will indicate the mean value of the column\n",
        "    sns.histplot(data=data, x=feature, kde=kde, ax=ax_hist2, bins=bins, palette=\"winter\") if bins else sns.histplot(data=data, x=feature, kde=kde, ax=ax_hist2)  # For histogram\n",
        "    ax_hist2.axvline(data[feature].mean(), color=\"green\", linestyle=\"--\")  # Add mean to the histogram\n",
        "    ax_hist2.axvline(data[feature].median(), color=\"black\", linestyle=\"-\")  # Add median to the histogram"
      ],
      "metadata": {
        "id": "tgEgVEqwemF8"
      },
      "execution_count": null,
      "outputs": []
    },
    {
      "cell_type": "code",
      "source": [
        "bank.info()"
      ],
      "metadata": {
        "colab": {
          "base_uri": "https://localhost:8080/"
        },
        "id": "KxQNIdeaBam6",
        "outputId": "bf8e5fc5-1263-4590-b7ef-4b234ae353e6"
      },
      "execution_count": null,
      "outputs": [
        {
          "output_type": "stream",
          "name": "stdout",
          "text": [
            "<class 'pandas.core.frame.DataFrame'>\n",
            "RangeIndex: 10000 entries, 0 to 9999\n",
            "Data columns (total 11 columns):\n",
            " #   Column           Non-Null Count  Dtype   \n",
            "---  ------           --------------  -----   \n",
            " 0   CreditScore      10000 non-null  int64   \n",
            " 1   Geography        10000 non-null  category\n",
            " 2   Gender           10000 non-null  category\n",
            " 3   Age              10000 non-null  int64   \n",
            " 4   Tenure           10000 non-null  int64   \n",
            " 5   Balance          10000 non-null  float64 \n",
            " 6   NumOfProducts    10000 non-null  int64   \n",
            " 7   HasCrCard        10000 non-null  category\n",
            " 8   IsActiveMember   10000 non-null  category\n",
            " 9   EstimatedSalary  10000 non-null  float64 \n",
            " 10  Exited           10000 non-null  int64   \n",
            "dtypes: category(4), float64(2), int64(5)\n",
            "memory usage: 586.6 KB\n"
          ]
        }
      ]
    },
    {
      "cell_type": "markdown",
      "source": [
        "###Credit Score###\n",
        "\n",
        "```\n",
        "# This is formatted as code\n",
        "```\n",
        "\n"
      ],
      "metadata": {
        "id": "u7x0YvixzXJv"
      }
    },
    {
      "cell_type": "code",
      "source": [
        "histogram_boxplot(bank, 'CreditScore')"
      ],
      "metadata": {
        "colab": {
          "base_uri": "https://localhost:8080/",
          "height": 442
        },
        "id": "ty_3YOU9xok-",
        "outputId": "ee321c51-3275-4b0e-80a7-8de9be1c10d5"
      },
      "execution_count": null,
      "outputs": [
        {
          "output_type": "display_data",
          "data": {
            "text/plain": [
              "<Figure size 864x504 with 2 Axes>"
            ],
            "image/png": "[encoded data removed]"
          },
          "metadata": {
            "needs_background": "light"
          }
        }
      ]
    },
    {
      "cell_type": "code",
      "source": [
        "bank['CreditScore'].skew()"
      ],
      "metadata": {
        "colab": {
          "base_uri": "https://localhost:8080/"
        },
        "id": "5cR1lDyDxu2o",
        "outputId": "d92f6758-1ab9-4c81-b22c-d77534d771ee"
      },
      "execution_count": null,
      "outputs": [
        {
          "output_type": "execute_result",
          "data": {
            "text/plain": [
              "-0.07160660820092675"
            ]
          },
          "metadata": {},
          "execution_count": 84
        }
      ]
    },
    {
      "cell_type": "markdown",
      "source": [
        "Both the histogram and boxplot show that distribution is pretty normal. There are a few outliers at the right end, but those are realistic (e.g., a credit score of 350 is realistic) and do not distort the shape."
      ],
      "metadata": {
        "id": "sMqR6Zn-zGHX"
      }
    },
    {
      "cell_type": "markdown",
      "source": [
        "###Age###"
      ],
      "metadata": {
        "id": "W1eZ06IvzaBV"
      }
    },
    {
      "cell_type": "code",
      "source": [
        "histogram_boxplot(bank, 'Age')"
      ],
      "metadata": {
        "colab": {
          "base_uri": "https://localhost:8080/",
          "height": 442
        },
        "id": "IzHVSxvxybh4",
        "outputId": "8704bc8f-cc50-49eb-d224-113dcf567609"
      },
      "execution_count": null,
      "outputs": [
        {
          "output_type": "display_data",
          "data": {
            "text/plain": [
              "<Figure size 864x504 with 2 Axes>"
            ],
            "image/png": "[encoded data removed]"
          },
          "metadata": {
            "needs_background": "light"
          }
        }
      ]
    },
    {
      "cell_type": "code",
      "source": [
        "bank['Age'].skew()"
      ],
      "metadata": {
        "colab": {
          "base_uri": "https://localhost:8080/"
        },
        "id": "2KDrkVnnzgiT",
        "outputId": "cb0339b9-eaef-4e70-cf8e-2f2a2b4a314e"
      },
      "execution_count": null,
      "outputs": [
        {
          "output_type": "execute_result",
          "data": {
            "text/plain": [
              "1.0113202630234552"
            ]
          },
          "metadata": {},
          "execution_count": 86
        }
      ]
    },
    {
      "cell_type": "markdown",
      "source": [
        "It is highly positively skewed, and there are a lot of outliers at the right end. I do not want to drop those data points, because they are meaningful scores, not unrealistic (max age is 92, which is pretty realistic). Therefore, I will use the log transformation."
      ],
      "metadata": {
        "id": "WDdTmHP603Vd"
      }
    },
    {
      "cell_type": "code",
      "source": [
        "bank['Age_log']=np.log(bank['Age'])\n",
        "bank['Age_log'].skew()"
      ],
      "metadata": {
        "colab": {
          "base_uri": "https://localhost:8080/"
        },
        "id": "dHijE1280qQl",
        "outputId": "3d81428d-8697-4b56-a4ac-ebe5911e74d6"
      },
      "execution_count": null,
      "outputs": [
        {
          "output_type": "execute_result",
          "data": {
            "text/plain": [
              "0.182020112559587"
            ]
          },
          "metadata": {},
          "execution_count": 87
        }
      ]
    },
    {
      "cell_type": "code",
      "source": [
        "histogram_boxplot(bank, 'Age_log')"
      ],
      "metadata": {
        "colab": {
          "base_uri": "https://localhost:8080/",
          "height": 443
        },
        "id": "qtRZBFQt1aiU",
        "outputId": "96e926ba-a497-4f70-ba6f-b2df4a6b4e4a"
      },
      "execution_count": null,
      "outputs": [
        {
          "output_type": "display_data",
          "data": {
            "text/plain": [
              "<Figure size 864x504 with 2 Axes>"
            ],
            "image/png": "[encoded data removed]"
          },
          "metadata": {
            "needs_background": "light"
          }
        }
      ]
    },
    {
      "cell_type": "markdown",
      "source": [
        "The log transformation drastically reduced the skewness, and the distribution has become more normal. The skewness was reduced from 1.011 (highly skewed) to 0.18 (very slightly skewed). Therefore, I will keep the log transformed feature and remove the original one from the dataset."
      ],
      "metadata": {
        "id": "Y5ez384d1jb5"
      }
    },
    {
      "cell_type": "code",
      "source": [
        "bank.drop(['Age'], axis=1, inplace=True)"
      ],
      "metadata": {
        "id": "X98kvgjY1fTF"
      },
      "execution_count": null,
      "outputs": []
    },
    {
      "cell_type": "markdown",
      "source": [
        "###Tenure###"
      ],
      "metadata": {
        "id": "xvGg5rdGBht2"
      }
    },
    {
      "cell_type": "code",
      "source": [
        "histogram_boxplot(bank, 'Tenure')"
      ],
      "metadata": {
        "colab": {
          "base_uri": "https://localhost:8080/",
          "height": 442
        },
        "id": "GDdHsmve13s1",
        "outputId": "3dfdac12-974f-4fdc-8127-b6bc8b08d07e"
      },
      "execution_count": null,
      "outputs": [
        {
          "output_type": "display_data",
          "data": {
            "text/plain": [
              "<Figure size 864x504 with 2 Axes>"
            ],
            "image/png": "[encoded data removed]"
          },
          "metadata": {
            "needs_background": "light"
          }
        }
      ]
    },
    {
      "cell_type": "code",
      "source": [
        "bank['Tenure'].skew()"
      ],
      "metadata": {
        "colab": {
          "base_uri": "https://localhost:8080/"
        },
        "id": "T2AzvDApBoks",
        "outputId": "37f560b6-6538-4d57-cc23-0b5d15d5606e"
      },
      "execution_count": null,
      "outputs": [
        {
          "output_type": "execute_result",
          "data": {
            "text/plain": [
              "0.01099145797717904"
            ]
          },
          "metadata": {},
          "execution_count": 91
        }
      ]
    },
    {
      "cell_type": "markdown",
      "source": [
        "It is very close to normal distribution, so there is no need for transformation or any other kind of outlier treatment."
      ],
      "metadata": {
        "id": "dCZGx9JdBt-c"
      }
    },
    {
      "cell_type": "markdown",
      "source": [
        "###Balance###"
      ],
      "metadata": {
        "id": "SzT1OxS9B5RJ"
      }
    },
    {
      "cell_type": "code",
      "source": [
        "histogram_boxplot(bank, 'Balance')"
      ],
      "metadata": {
        "colab": {
          "base_uri": "https://localhost:8080/",
          "height": 442
        },
        "id": "R4-n_Oz_Bs_R",
        "outputId": "40405ea7-1e9e-40e6-f742-13869383d6ae"
      },
      "execution_count": null,
      "outputs": [
        {
          "output_type": "display_data",
          "data": {
            "text/plain": [
              "<Figure size 864x504 with 2 Axes>"
            ],
            "image/png": "[encoded data removed]"
          },
          "metadata": {
            "needs_background": "light"
          }
        }
      ]
    },
    {
      "cell_type": "code",
      "source": [
        "bank['Balance'].skew()"
      ],
      "metadata": {
        "colab": {
          "base_uri": "https://localhost:8080/"
        },
        "id": "0IJmTnWUCdcn",
        "outputId": "a72574df-58f9-41a1-efef-88ddf98b88bf"
      },
      "execution_count": null,
      "outputs": [
        {
          "output_type": "execute_result",
          "data": {
            "text/plain": [
              "-0.14110871094154384"
            ]
          },
          "metadata": {},
          "execution_count": 93
        }
      ]
    },
    {
      "cell_type": "markdown",
      "source": [
        "Although there are a lot of datapoints at the left end of the data, those are not outliers, because they comprise the lower quartile of the data as descriptive statistics table showed us. Also, they are meaningful and realistic values, because people can have 0 dollars in their bank accounts, especially at the time this data was collected. Because there is no outliers and skewness is very slight, there is no need for any transformation."
      ],
      "metadata": {
        "id": "nAdnmhp9DCOv"
      }
    },
    {
      "cell_type": "markdown",
      "source": [
        "###Number of Products###"
      ],
      "metadata": {
        "id": "FiMnh2fUDkHQ"
      }
    },
    {
      "cell_type": "code",
      "source": [
        "histogram_boxplot(bank, 'NumOfProducts')"
      ],
      "metadata": {
        "colab": {
          "base_uri": "https://localhost:8080/",
          "height": 442
        },
        "id": "3ThaCTxyCgll",
        "outputId": "b5b6ffc0-ddb2-4970-ab87-b2feaf63a997"
      },
      "execution_count": null,
      "outputs": [
        {
          "output_type": "display_data",
          "data": {
            "text/plain": [
              "<Figure size 864x504 with 2 Axes>"
            ],
            "image/png": "[encoded data removed]"
          },
          "metadata": {
            "needs_background": "light"
          }
        }
      ]
    },
    {
      "cell_type": "code",
      "source": [
        "bank['NumOfProducts'].skew()"
      ],
      "metadata": {
        "colab": {
          "base_uri": "https://localhost:8080/"
        },
        "id": "-f3wiMR4Drxe",
        "outputId": "38496687-06c5-4e45-afd6-5b80b43bbb3a"
      },
      "execution_count": null,
      "outputs": [
        {
          "output_type": "execute_result",
          "data": {
            "text/plain": [
              "0.7455678882823168"
            ]
          },
          "metadata": {},
          "execution_count": 95
        }
      ]
    },
    {
      "cell_type": "markdown",
      "source": [
        "It is moderately positively skewed, so I will use log transformation."
      ],
      "metadata": {
        "id": "_qnaFFo6D41C"
      }
    },
    {
      "cell_type": "code",
      "source": [
        "bank['NumOfProducts_log']=np.log(bank['NumOfProducts'])\n",
        "bank['NumOfProducts_log'].skew()"
      ],
      "metadata": {
        "colab": {
          "base_uri": "https://localhost:8080/"
        },
        "id": "59PU5oasD1Fh",
        "outputId": "42af45b1-77fb-4ce6-8f2b-81f5b7853002"
      },
      "execution_count": null,
      "outputs": [
        {
          "output_type": "execute_result",
          "data": {
            "text/plain": [
              "0.23959503969037352"
            ]
          },
          "metadata": {},
          "execution_count": 96
        }
      ]
    },
    {
      "cell_type": "markdown",
      "source": [
        "The log transformation reduced the skewness, and the distribution has become more normal. The skewness was reduced from 0.74 (moderately skewed) to 0.24 (very slightly skewed). Therefore, I will keep the log transformed feature and remove the original one from the dataset."
      ],
      "metadata": {
        "id": "1-Hj-vpNEIH7"
      }
    },
    {
      "cell_type": "code",
      "source": [
        "bank.drop(['NumOfProducts'], axis=1, inplace=True)"
      ],
      "metadata": {
        "id": "fWcN8QKlEDwO"
      },
      "execution_count": null,
      "outputs": []
    },
    {
      "cell_type": "code",
      "source": [
        "bank.info()"
      ],
      "metadata": {
        "colab": {
          "base_uri": "https://localhost:8080/"
        },
        "id": "adXCDhbnESfz",
        "outputId": "f8861bc0-b6d9-4d64-ee77-5ecd6f8df1b7"
      },
      "execution_count": null,
      "outputs": [
        {
          "output_type": "stream",
          "name": "stdout",
          "text": [
            "<class 'pandas.core.frame.DataFrame'>\n",
            "RangeIndex: 10000 entries, 0 to 9999\n",
            "Data columns (total 11 columns):\n",
            " #   Column             Non-Null Count  Dtype   \n",
            "---  ------             --------------  -----   \n",
            " 0   CreditScore        10000 non-null  int64   \n",
            " 1   Geography          10000 non-null  category\n",
            " 2   Gender             10000 non-null  category\n",
            " 3   Tenure             10000 non-null  int64   \n",
            " 4   Balance            10000 non-null  float64 \n",
            " 5   HasCrCard          10000 non-null  category\n",
            " 6   IsActiveMember     10000 non-null  category\n",
            " 7   EstimatedSalary    10000 non-null  float64 \n",
            " 8   Exited             10000 non-null  int64   \n",
            " 9   Age_log            10000 non-null  float64 \n",
            " 10  NumOfProducts_log  10000 non-null  float64 \n",
            "dtypes: category(4), float64(4), int64(3)\n",
            "memory usage: 586.6 KB\n"
          ]
        }
      ]
    },
    {
      "cell_type": "markdown",
      "source": [
        "###Estimated Salary###"
      ],
      "metadata": {
        "id": "yo38B0SqEYb6"
      }
    },
    {
      "cell_type": "code",
      "source": [
        "histogram_boxplot(bank, 'EstimatedSalary')"
      ],
      "metadata": {
        "colab": {
          "base_uri": "https://localhost:8080/",
          "height": 442
        },
        "id": "YkTRvIN0ET_4",
        "outputId": "025707ae-deae-4c99-b0d4-59d6c26af821"
      },
      "execution_count": null,
      "outputs": [
        {
          "output_type": "display_data",
          "data": {
            "text/plain": [
              "<Figure size 864x504 with 2 Axes>"
            ],
            "image/png": "[encoded data removed]"
          },
          "metadata": {
            "needs_background": "light"
          }
        }
      ]
    },
    {
      "cell_type": "code",
      "source": [
        "bank['EstimatedSalary'].skew()"
      ],
      "metadata": {
        "colab": {
          "base_uri": "https://localhost:8080/"
        },
        "id": "-_H4aoYzEd4V",
        "outputId": "3e674156-d5e2-460f-c4bd-e8562ce9c7e3"
      },
      "execution_count": null,
      "outputs": [
        {
          "output_type": "execute_result",
          "data": {
            "text/plain": [
              "0.0020853576615585162"
            ]
          },
          "metadata": {},
          "execution_count": 100
        }
      ]
    },
    {
      "cell_type": "markdown",
      "source": [
        "It is almost completely normal distribution, so there is no need for any kind of transformation or outlier treatment."
      ],
      "metadata": {
        "id": "OOGEo-J3Emw0"
      }
    },
    {
      "cell_type": "markdown",
      "source": [
        "###Geography###"
      ],
      "metadata": {
        "id": "14Sj0QQnGWtT"
      }
    },
    {
      "cell_type": "code",
      "source": [
        "# I will create a function that will plot labeled barplot for categorical variables\n",
        "\n",
        "def labeled_barplot(data, feature, perc=False, n=None):\n",
        "\n",
        "    total = len(data[feature])  # length of the column\n",
        "    count = data[feature].nunique()\n",
        "    if n is None:\n",
        "        plt.figure(figsize=(count + 1, 5))\n",
        "    else:\n",
        "        plt.figure(figsize=(n + 1, 5))\n",
        "\n",
        "    plt.xticks(rotation=90, fontsize=15)\n",
        "    ax = sns.countplot(\n",
        "        data=data,\n",
        "        x=feature,\n",
        "        palette=\"Paired\",\n",
        "        order=data[feature].value_counts().index[:n].sort_values(),\n",
        "    )\n",
        "\n",
        "    for p in ax.patches:\n",
        "        if perc == True:\n",
        "            label = \"{:.1f}%\".format(\n",
        "                100 * p.get_height() / total\n",
        "            )  \n",
        "        else:\n",
        "            label = p.get_height()\n",
        "\n",
        "        x = p.get_x() + p.get_width() / 2\n",
        "        y = p.get_height()\n",
        "\n",
        "        ax.annotate(\n",
        "            label,\n",
        "            (x, y),\n",
        "            ha=\"center\",\n",
        "            va=\"center\",\n",
        "            size=12,\n",
        "            xytext=(0, 5),\n",
        "            textcoords=\"offset points\",\n",
        "        )\n",
        "\n",
        "    plt.show()"
      ],
      "metadata": {
        "id": "RIqcIXUtEmAe"
      },
      "execution_count": null,
      "outputs": []
    },
    {
      "cell_type": "code",
      "source": [
        "labeled_barplot(bank, \"Geography\", perc=True)"
      ],
      "metadata": {
        "colab": {
          "base_uri": "https://localhost:8080/",
          "height": 393
        },
        "id": "ioXuKzkkGZAq",
        "outputId": "8e9b9666-92f5-422f-c130-5235b3efc6cd"
      },
      "execution_count": null,
      "outputs": [
        {
          "output_type": "display_data",
          "data": {
            "text/plain": [
              "<Figure size 288x360 with 1 Axes>"
            ],
            "image/png": "[encoded data removed]"
          },
          "metadata": {
            "needs_background": "light"
          }
        }
      ]
    },
    {
      "cell_type": "markdown",
      "source": [
        "Nearly half of the customers are from France, while Germany and Spain markets equally share the rest."
      ],
      "metadata": {
        "id": "ZBbht9hlGkRQ"
      }
    },
    {
      "cell_type": "markdown",
      "source": [
        "###Gender###"
      ],
      "metadata": {
        "id": "jX82J8QrGxkD"
      }
    },
    {
      "cell_type": "code",
      "source": [
        "labeled_barplot(bank, \"Gender\", perc=True)"
      ],
      "metadata": {
        "colab": {
          "base_uri": "https://localhost:8080/",
          "height": 378
        },
        "id": "vpdEVRcpGcy-",
        "outputId": "fba2e71c-9a2a-4f8a-bf88-971704768dc1"
      },
      "execution_count": null,
      "outputs": [
        {
          "output_type": "display_data",
          "data": {
            "text/plain": [
              "<Figure size 216x360 with 1 Axes>"
            ],
            "image/png": "[encoded data removed]"
          },
          "metadata": {
            "needs_background": "light"
          }
        }
      ]
    },
    {
      "cell_type": "markdown",
      "source": [
        "The percentage of male customers is slightly higher than that of female customers, but there is not much difference in terms of gender."
      ],
      "metadata": {
        "id": "YGHJR2AtG26A"
      }
    },
    {
      "cell_type": "markdown",
      "source": [
        "###Has Credit Card?###"
      ],
      "metadata": {
        "id": "dXiKY_ouHGwS"
      }
    },
    {
      "cell_type": "code",
      "source": [
        "labeled_barplot(bank, \"HasCrCard\", perc=True)"
      ],
      "metadata": {
        "colab": {
          "base_uri": "https://localhost:8080/",
          "height": 348
        },
        "id": "AmdvEksgG1NK",
        "outputId": "106e1696-53c5-4588-9c1b-12075d98620b"
      },
      "execution_count": null,
      "outputs": [
        {
          "output_type": "display_data",
          "data": {
            "text/plain": [
              "<Figure size 216x360 with 1 Axes>"
            ],
            "image/png": "[encoded data removed]"
          },
          "metadata": {
            "needs_background": "light"
          }
        }
      ]
    },
    {
      "cell_type": "markdown",
      "source": [
        "Nearly two-third of the customers have credit cards. "
      ],
      "metadata": {
        "id": "BybZyfKrHUni"
      }
    },
    {
      "cell_type": "markdown",
      "source": [
        "###Is Active Member?###"
      ],
      "metadata": {
        "id": "ZuG7RWvFHb5b"
      }
    },
    {
      "cell_type": "code",
      "source": [
        "labeled_barplot(bank, \"IsActiveMember\", perc=True)"
      ],
      "metadata": {
        "colab": {
          "base_uri": "https://localhost:8080/",
          "height": 348
        },
        "id": "5LZAKlCUHN-Z",
        "outputId": "195c30fc-1373-4b9d-9db8-05ce72536afe"
      },
      "execution_count": null,
      "outputs": [
        {
          "output_type": "display_data",
          "data": {
            "text/plain": [
              "<Figure size 216x360 with 1 Axes>"
            ],
            "image/png": "[encoded data removed]"
          },
          "metadata": {
            "needs_background": "light"
          }
        }
      ]
    },
    {
      "cell_type": "markdown",
      "source": [
        "Nearly half of the customers are not active members of the bank, meaning that they do not use bank products or make transactions regularly."
      ],
      "metadata": {
        "id": "yVgHWDC5Hkmu"
      }
    },
    {
      "cell_type": "markdown",
      "source": [
        "###Exited###"
      ],
      "metadata": {
        "id": "pSoFJ6yMH06s"
      }
    },
    {
      "cell_type": "code",
      "source": [
        "labeled_barplot(bank, \"Exited\", perc=True)"
      ],
      "metadata": {
        "colab": {
          "base_uri": "https://localhost:8080/",
          "height": 333
        },
        "id": "pIGFnF32Hg1i",
        "outputId": "d555b09f-0d4b-49ae-a003-380d74812667"
      },
      "execution_count": null,
      "outputs": [
        {
          "output_type": "display_data",
          "data": {
            "text/plain": [
              "<Figure size 216x360 with 1 Axes>"
            ],
            "image/png": "[encoded data removed]"
          },
          "metadata": {
            "needs_background": "light"
          }
        }
      ]
    },
    {
      "cell_type": "markdown",
      "source": [
        "20.4 percent of the customers left the bank within six months. Also, we see that there is a great imbalance between the two categories of our target variable, so some sampling techniques might be needed."
      ],
      "metadata": {
        "id": "qtp0MDV8H-Ad"
      }
    },
    {
      "cell_type": "markdown",
      "source": [
        "##Bivariate Analysis##"
      ],
      "metadata": {
        "id": "amJtKY5TI6yl"
      }
    },
    {
      "cell_type": "code",
      "source": [
        "# Correlation matrix and a heatmap \n",
        "\n",
        "plt.figure(figsize=(15,10))\n",
        "sns.heatmap(bank.corr(), annot=True, cmap='Spectral', vmin=-1, vmax=1)\n",
        "plt.title('Correlation Matrix')\n",
        "plt.show()"
      ],
      "metadata": {
        "colab": {
          "base_uri": "https://localhost:8080/",
          "height": 608
        },
        "id": "wrRZzUj-JCiJ",
        "outputId": "668f0f53-3b10-4501-f85c-21056bb991b7"
      },
      "execution_count": null,
      "outputs": [
        {
          "output_type": "display_data",
          "data": {
            "text/plain": [
              "<Figure size 1080x720 with 2 Axes>"
            ],
            "image/png": "[encoded data removed]"
          },
          "metadata": {
            "needs_background": "light"
          }
        }
      ]
    },
    {
      "cell_type": "markdown",
      "source": [
        "For the purposes of this analysis, I will explore the relationship of our outcome variable Exited with other variables, where the correlation coefficient is above .20. The only such variable is age_log, so I will explore their relationship."
      ],
      "metadata": {
        "id": "cdKEwY5wSwnM"
      }
    },
    {
      "cell_type": "markdown",
      "source": [
        "###Exited vs. Age###"
      ],
      "metadata": {
        "id": "b5KQftjWUVMg"
      }
    },
    {
      "cell_type": "code",
      "source": [
        "plt.figure(figsize=(15,5))\n",
        "sns.boxplot(y='Age_log',x='Exited',data=bank)\n",
        "plt.show()"
      ],
      "metadata": {
        "colab": {
          "base_uri": "https://localhost:8080/",
          "height": 337
        },
        "id": "vy88cbxBH6Ds",
        "outputId": "ffa37591-f906-4793-8729-af97c9ee61d9"
      },
      "execution_count": null,
      "outputs": [
        {
          "output_type": "display_data",
          "data": {
            "text/plain": [
              "<Figure size 1080x360 with 1 Axes>"
            ],
            "image/png": "[encoded data removed]"
          },
          "metadata": {
            "needs_background": "light"
          }
        }
      ]
    },
    {
      "cell_type": "markdown",
      "source": [
        "The customers who exited the bank within six months were significantly older than those who did not exit. The bank should further explore the reasons of why older customers tend to exit the bank. Could there be an age related factor that would cause their exit? Are they less satisfied from the bank's services? Does the bank's advertisement strategy focus too much on young people and not speak to older people? "
      ],
      "metadata": {
        "id": "mpI1O2UPTcBC"
      }
    },
    {
      "cell_type": "markdown",
      "source": [
        "###Exited vs. Geography###"
      ],
      "metadata": {
        "id": "Jw4OlMojUX9k"
      }
    },
    {
      "cell_type": "code",
      "source": [
        "bank.info()"
      ],
      "metadata": {
        "colab": {
          "base_uri": "https://localhost:8080/"
        },
        "id": "m_kr_yppTOsu",
        "outputId": "e8381a82-b1cb-414d-8e06-e00233b3a37a"
      },
      "execution_count": null,
      "outputs": [
        {
          "output_type": "stream",
          "name": "stdout",
          "text": [
            "<class 'pandas.core.frame.DataFrame'>\n",
            "RangeIndex: 10000 entries, 0 to 9999\n",
            "Data columns (total 11 columns):\n",
            " #   Column             Non-Null Count  Dtype   \n",
            "---  ------             --------------  -----   \n",
            " 0   CreditScore        10000 non-null  int64   \n",
            " 1   Geography          10000 non-null  category\n",
            " 2   Gender             10000 non-null  category\n",
            " 3   Tenure             10000 non-null  int64   \n",
            " 4   Balance            10000 non-null  float64 \n",
            " 5   HasCrCard          10000 non-null  category\n",
            " 6   IsActiveMember     10000 non-null  category\n",
            " 7   EstimatedSalary    10000 non-null  float64 \n",
            " 8   Exited             10000 non-null  int64   \n",
            " 9   Age_log            10000 non-null  float64 \n",
            " 10  NumOfProducts_log  10000 non-null  float64 \n",
            "dtypes: category(4), float64(4), int64(3)\n",
            "memory usage: 586.6 KB\n"
          ]
        }
      ]
    },
    {
      "cell_type": "code",
      "source": [
        "# The function below will create stacked barplot which will allow me to look at the relationship of Attrition with other categorical variables \n",
        "\n",
        "\n",
        "def stacked_barplot(data, predictor, target):\n",
        "  \n",
        "    count = data[predictor].nunique()\n",
        "    sorter = data[target].value_counts().index[-1]\n",
        "    tab1 = pd.crosstab(data[predictor], data[target], margins=True).sort_values(\n",
        "        by=sorter, ascending=False\n",
        "    )\n",
        "    print(tab1)\n",
        "    print(\"-\" * 120)\n",
        "    tab = pd.crosstab(data[predictor], data[target], normalize=\"index\").sort_values(\n",
        "        by=sorter, ascending=False\n",
        "    )\n",
        "    tab.plot(kind=\"bar\", stacked=True, figsize=(count + 1, 5))\n",
        "    plt.legend(\n",
        "        loc=\"lower left\",\n",
        "        frameon=False,\n",
        "    )\n",
        "    plt.legend(loc=\"upper left\", bbox_to_anchor=(1, 1))\n",
        "    plt.show()"
      ],
      "metadata": {
        "id": "TpE5JQ89UdBB"
      },
      "execution_count": null,
      "outputs": []
    },
    {
      "cell_type": "code",
      "source": [
        "stacked_barplot(bank, \"Geography\", \"Exited\" )"
      ],
      "metadata": {
        "colab": {
          "base_uri": "https://localhost:8080/",
          "height": 495
        },
        "id": "zcMyk8V8UfmW",
        "outputId": "264cb506-3428-49c9-e244-bb2f9145220a"
      },
      "execution_count": null,
      "outputs": [
        {
          "output_type": "stream",
          "name": "stdout",
          "text": [
            "Exited        0     1    All\n",
            "Geography                   \n",
            "All        7963  2037  10000\n",
            "Germany    1695   814   2509\n",
            "France     4204   810   5014\n",
            "Spain      2064   413   2477\n",
            "------------------------------------------------------------------------------------------------------------------------\n"
          ]
        },
        {
          "output_type": "display_data",
          "data": {
            "text/plain": [
              "<Figure size 288x360 with 1 Axes>"
            ],
            "image/png": "[encoded data removed]"
          },
          "metadata": {
            "needs_background": "light"
          }
        }
      ]
    },
    {
      "cell_type": "markdown",
      "source": [
        "The number of people who exited the bank was higher in Germany than in Spain or France. It might indicate an issue specific to Germany and the bank's strategy or offices in that country."
      ],
      "metadata": {
        "id": "DUva5lblUl4N"
      }
    },
    {
      "cell_type": "markdown",
      "source": [
        "###Exited vs. Gender###"
      ],
      "metadata": {
        "id": "-0hQkSbeU5pB"
      }
    },
    {
      "cell_type": "code",
      "source": [
        "stacked_barplot(bank, \"Gender\", \"Exited\" )"
      ],
      "metadata": {
        "colab": {
          "base_uri": "https://localhost:8080/",
          "height": 467
        },
        "id": "0hS6Z82eUjAe",
        "outputId": "313d3482-ca08-48f3-91fd-fe0c187c4dae"
      },
      "execution_count": null,
      "outputs": [
        {
          "output_type": "stream",
          "name": "stdout",
          "text": [
            "Exited     0     1    All\n",
            "Gender                   \n",
            "All     7963  2037  10000\n",
            "Female  3404  1139   4543\n",
            "Male    4559   898   5457\n",
            "------------------------------------------------------------------------------------------------------------------------\n"
          ]
        },
        {
          "output_type": "display_data",
          "data": {
            "text/plain": [
              "<Figure size 216x360 with 1 Axes>"
            ],
            "image/png": "[encoded data removed]"
          },
          "metadata": {
            "needs_background": "light"
          }
        }
      ]
    },
    {
      "cell_type": "markdown",
      "source": [
        "The number of female customers who exited was higher than that of male customers. Is it coincidence or is there a specific reason for that? "
      ],
      "metadata": {
        "id": "TsnPbaPQVCfo"
      }
    },
    {
      "cell_type": "markdown",
      "source": [
        "###Exited vs. Has Credit Card###"
      ],
      "metadata": {
        "id": "Gq5BBtGUVe52"
      }
    },
    {
      "cell_type": "code",
      "source": [
        "stacked_barplot(bank, \"HasCrCard\", \"Exited\" )"
      ],
      "metadata": {
        "colab": {
          "base_uri": "https://localhost:8080/",
          "height": 447
        },
        "id": "gxf4QdtyU-m1",
        "outputId": "7b58cd9b-ad18-46d4-f5ba-9aa70f9c5ea9"
      },
      "execution_count": null,
      "outputs": [
        {
          "output_type": "stream",
          "name": "stdout",
          "text": [
            "Exited        0     1    All\n",
            "HasCrCard                   \n",
            "All        7963  2037  10000\n",
            "Yes        5631  1424   7055\n",
            "No         2332   613   2945\n",
            "------------------------------------------------------------------------------------------------------------------------\n"
          ]
        },
        {
          "output_type": "display_data",
          "data": {
            "text/plain": [
              "<Figure size 216x360 with 1 Axes>"
            ],
            "image/png": "[encoded data removed]"
          },
          "metadata": {
            "needs_background": "light"
          }
        }
      ]
    },
    {
      "cell_type": "markdown",
      "source": [
        "It seems whether a person has a credit card or not does not impact the person's decision of exiting."
      ],
      "metadata": {
        "id": "h_JxYoMFVlJU"
      }
    },
    {
      "cell_type": "markdown",
      "source": [
        "###Exited vs. Is Active Member###"
      ],
      "metadata": {
        "id": "huXjg09vVvB7"
      }
    },
    {
      "cell_type": "code",
      "source": [
        "stacked_barplot(bank, \"IsActiveMember\", \"Exited\" )"
      ],
      "metadata": {
        "colab": {
          "base_uri": "https://localhost:8080/",
          "height": 447
        },
        "id": "xpIuDybUVjAB",
        "outputId": "8500fa50-c1e8-431a-d35c-93741e719da0"
      },
      "execution_count": null,
      "outputs": [
        {
          "output_type": "stream",
          "name": "stdout",
          "text": [
            "Exited             0     1    All\n",
            "IsActiveMember                   \n",
            "All             7963  2037  10000\n",
            "No              3547  1302   4849\n",
            "Yes             4416   735   5151\n",
            "------------------------------------------------------------------------------------------------------------------------\n"
          ]
        },
        {
          "output_type": "display_data",
          "data": {
            "text/plain": [
              "<Figure size 216x360 with 1 Axes>"
            ],
            "image/png": "[encoded data removed]"
          },
          "metadata": {
            "needs_background": "light"
          }
        }
      ]
    },
    {
      "cell_type": "markdown",
      "source": [
        "It seems that less active members of the bank has more chance to exit the bank compared to more active members. That is is an expected outcome, but the bank may want to reveal the reasons why some people are actively using, while some others are not. Is it due to some bank-related factors? Maybe it is connected with the fact that older people exit the bank more. Let's look at the relationship between age and member activeness."
      ],
      "metadata": {
        "id": "oXCpLLSjV4hb"
      }
    },
    {
      "cell_type": "code",
      "source": [
        "plt.figure(figsize=(15,5))\n",
        "sns.boxplot(y='Age_log',x='IsActiveMember',data=bank)\n",
        "plt.show()"
      ],
      "metadata": {
        "colab": {
          "base_uri": "https://localhost:8080/",
          "height": 337
        },
        "id": "i3G5M_FZiKrH",
        "outputId": "f1e4bd13-9f79-4864-c5cd-889c6eb3919b"
      },
      "execution_count": null,
      "outputs": [
        {
          "output_type": "display_data",
          "data": {
            "text/plain": [
              "<Figure size 1080x360 with 1 Axes>"
            ],
            "image/png": "[encoded data removed]"
          },
          "metadata": {
            "needs_background": "light"
          }
        }
      ]
    },
    {
      "cell_type": "markdown",
      "source": [
        "There is no age difference in terms of member activeness, although both age and member activeness differ in the context of chance to exit the bank. That is an interesting result which says us that there is no interaction between age and member activeness when it comes to one's probability of exiting the bank, but each has separate impact on or impacted by that probability. "
      ],
      "metadata": {
        "id": "DrkpJRqdi7pr"
      }
    },
    {
      "cell_type": "markdown",
      "source": [
        "#Data Preprocessing#"
      ],
      "metadata": {
        "id": "i8X_ckcAoVbo"
      }
    },
    {
      "cell_type": "markdown",
      "source": [
        "##Splitting the Data##"
      ],
      "metadata": {
        "id": "eQdY5rFSNat1"
      }
    },
    {
      "cell_type": "code",
      "source": [
        "bank.info()"
      ],
      "metadata": {
        "colab": {
          "base_uri": "https://localhost:8080/"
        },
        "id": "mvMqokfIHcXj",
        "outputId": "2a7abbc1-9b5c-40a1-bd19-914f21b0f3e6"
      },
      "execution_count": null,
      "outputs": [
        {
          "output_type": "stream",
          "name": "stdout",
          "text": [
            "<class 'pandas.core.frame.DataFrame'>\n",
            "RangeIndex: 10000 entries, 0 to 9999\n",
            "Data columns (total 11 columns):\n",
            " #   Column             Non-Null Count  Dtype   \n",
            "---  ------             --------------  -----   \n",
            " 0   CreditScore        10000 non-null  int64   \n",
            " 1   Geography          10000 non-null  category\n",
            " 2   Gender             10000 non-null  category\n",
            " 3   Tenure             10000 non-null  int64   \n",
            " 4   Balance            10000 non-null  float64 \n",
            " 5   HasCrCard          10000 non-null  category\n",
            " 6   IsActiveMember     10000 non-null  category\n",
            " 7   EstimatedSalary    10000 non-null  float64 \n",
            " 8   Exited             10000 non-null  int64   \n",
            " 9   Age_log            10000 non-null  float64 \n",
            " 10  NumOfProducts_log  10000 non-null  float64 \n",
            "dtypes: category(4), float64(4), int64(3)\n",
            "memory usage: 586.6 KB\n"
          ]
        }
      ]
    },
    {
      "cell_type": "code",
      "source": [
        "# I will store categorical variables for encoding\n",
        "cat_bank = ['Geography','Gender','HasCrCard', 'IsActiveMember']\n"
      ],
      "metadata": {
        "id": "4jdWY7_Oi02s"
      },
      "execution_count": null,
      "outputs": []
    },
    {
      "cell_type": "code",
      "source": [
        "# I will assign independent and dependent variables in X and Y respectively\n",
        "X = bank.drop(['Exited'],axis=1)\n",
        "y = bank[['Exited']]\n",
        "\n",
        "print(X.shape)\n",
        "print(y.shape)"
      ],
      "metadata": {
        "colab": {
          "base_uri": "https://localhost:8080/"
        },
        "id": "Mqu0a7ReJJB2",
        "outputId": "c91614f8-51e2-4d59-b373-ff278bf761b1"
      },
      "execution_count": null,
      "outputs": [
        {
          "output_type": "stream",
          "name": "stdout",
          "text": [
            "(10000, 10)\n",
            "(10000, 1)\n"
          ]
        }
      ]
    },
    {
      "cell_type": "code",
      "source": [
        "#I will split the dataset into train, validation, and test sets.\n",
        "\n",
        "X_temp, X_test, y_temp, y_test = train_test_split(X, y, test_size=0.2, random_state=1, stratify=y)"
      ],
      "metadata": {
        "id": "OgZzbNBoJY2C"
      },
      "execution_count": null,
      "outputs": []
    },
    {
      "cell_type": "code",
      "source": [
        "# The code below will create train and validation sets\n",
        "\n",
        "X_train, X_val, y_train, y_val = train_test_split(X_temp, y_temp, test_size=0.2, random_state=1, stratify=y_temp)"
      ],
      "metadata": {
        "id": "zuA3iBAoKZNy"
      },
      "execution_count": null,
      "outputs": []
    },
    {
      "cell_type": "code",
      "source": [
        "# Let's check the shape of each set\n",
        "\n",
        "print(X_train.shape, X_val.shape, X_test.shape)\n",
        "\n",
        "print(y_train.shape, y_val.shape, y_test.shape)"
      ],
      "metadata": {
        "colab": {
          "base_uri": "https://localhost:8080/"
        },
        "id": "8dUuajx7NKFK",
        "outputId": "3e46d016-9c5b-4ff3-92ee-2b5b69f3e623"
      },
      "execution_count": null,
      "outputs": [
        {
          "output_type": "stream",
          "name": "stdout",
          "text": [
            "(6400, 10) (1600, 10) (2000, 10)\n",
            "(6400, 1) (1600, 1) (2000, 1)\n"
          ]
        }
      ]
    },
    {
      "cell_type": "markdown",
      "source": [
        "##Scaling the Data##"
      ],
      "metadata": {
        "id": "H9xubuLFNe29"
      }
    },
    {
      "cell_type": "code",
      "source": [
        "sc=StandardScaler()\n",
        "temp = sc.fit(X_train[['CreditScore','Tenure','Balance','EstimatedSalary','Age_log','NumOfProducts_log']])\n",
        "X_train[['CreditScore','Tenure','Balance','EstimatedSalary','Age_log','NumOfProducts_log']] = temp.transform(X_train[['CreditScore','Tenure','Balance','EstimatedSalary','Age_log','NumOfProducts_log']])\n",
        "X_test[['CreditScore','Tenure','Balance','EstimatedSalary','Age_log','NumOfProducts_log']] = temp.transform(X_test[['CreditScore','Tenure','Balance','EstimatedSalary','Age_log','NumOfProducts_log']])\n",
        "X_val[['CreditScore','Tenure','Balance','EstimatedSalary','Age_log','NumOfProducts_log']] = temp.transform(X_val[['CreditScore','Tenure','Balance','EstimatedSalary','Age_log','NumOfProducts_log']])\n"
      ],
      "metadata": {
        "id": "PM5i-xxTNP6d"
      },
      "execution_count": null,
      "outputs": []
    },
    {
      "cell_type": "markdown",
      "source": [
        "Because it is a classification problem (whether a person will exit or not within 6 months), we will not scale the target variable. Scaling is done for only continuous variables."
      ],
      "metadata": {
        "id": "ZXTGs03VPeaJ"
      }
    },
    {
      "cell_type": "markdown",
      "source": [
        "##One Hot Encoding##"
      ],
      "metadata": {
        "id": "vjfjnN0cP2ca"
      }
    },
    {
      "cell_type": "code",
      "source": [
        "X_train = pd.get_dummies(X_train,columns=cat_bank,drop_first= True)\n",
        "X_test = pd.get_dummies(X_test,columns=cat_bank,drop_first= True)\n",
        "X_val = pd.get_dummies(X_val,columns=cat_bank,drop_first= True)  "
      ],
      "metadata": {
        "id": "pgObxa9TPbW1"
      },
      "execution_count": null,
      "outputs": []
    },
    {
      "cell_type": "code",
      "source": [
        "print(X_train.shape)\n",
        "print(X_val.shape)\n",
        "print(y_train.shape)\n",
        "print(y_val.shape)\n",
        "print(X_test.shape)\n",
        "print(y_test.shape)"
      ],
      "metadata": {
        "colab": {
          "base_uri": "https://localhost:8080/"
        },
        "id": "LP5x6CtnQN5P",
        "outputId": "e49f7545-91ab-4952-f088-8ede6b3ea56f"
      },
      "execution_count": null,
      "outputs": [
        {
          "output_type": "stream",
          "name": "stdout",
          "text": [
            "(6400, 11)\n",
            "(1600, 11)\n",
            "(6400, 1)\n",
            "(1600, 1)\n",
            "(2000, 11)\n",
            "(2000, 1)\n"
          ]
        }
      ]
    },
    {
      "cell_type": "code",
      "source": [
        "X_train.head()"
      ],
      "metadata": {
        "colab": {
          "base_uri": "https://localhost:8080/",
          "height": 270
        },
        "id": "n4twDoDoQQcM",
        "outputId": "de813e45-04c9-436d-e802-d42f2d383236"
      },
      "execution_count": null,
      "outputs": [
        {
          "output_type": "execute_result",
          "data": {
            "text/plain": [
              "      CreditScore    Tenure   Balance  EstimatedSalary   Age_log  \\\n",
              "5292     0.976155  0.347046 -1.212523         0.939366 -1.147573   \n",
              "3879     1.316949  1.377238  1.214872         1.389376 -0.514177   \n",
              "6118    -0.190810  0.003649  1.473810         0.692477  1.009771   \n",
              "4044     0.077695  1.033841 -1.212523        -0.347954 -0.632803   \n",
              "3202    -0.893054 -0.339749  0.961751        -0.647963 -0.514177   \n",
              "\n",
              "      NumOfProducts_log  Geography_Germany  Geography_Spain  Gender_Male  \\\n",
              "5292           0.901492                  0                0            0   \n",
              "3879           0.901492                  0                0            0   \n",
              "6118          -0.962075                  0                0            0   \n",
              "4044          -0.962075                  0                0            1   \n",
              "3202          -0.962075                  0                0            0   \n",
              "\n",
              "      HasCrCard_Yes  IsActiveMember_Yes  \n",
              "5292              1                   0  \n",
              "3879              0                   0  \n",
              "6118              0                   0  \n",
              "4044              1                   1  \n",
              "3202              1                   0  "
            ],
            "text/html": [
              "\n",
              "  <div id=\"df-896486eb-2d9e-45a1-9a81-f644a957d41a\">\n",
              "    <div class=\"colab-df-container\">\n",
              "      <div>\n",
              "<style scoped>\n",
              "    .dataframe tbody tr th:only-of-type {\n",
              "        vertical-align: middle;\n",
              "    }\n",
              "\n",
              "    .dataframe tbody tr th {\n",
              "        vertical-align: top;\n",
              "    }\n",
              "\n",
              "    .dataframe thead th {\n",
              "        text-align: right;\n",
              "    }\n",
              "</style>\n",
              "<table border=\"1\" class=\"dataframe\">\n",
              "  <thead>\n",
              "    <tr style=\"text-align: right;\">\n",
              "      <th></th>\n",
              "      <th>CreditScore</th>\n",
              "      <th>Tenure</th>\n",
              "      <th>Balance</th>\n",
              "      <th>EstimatedSalary</th>\n",
              "      <th>Age_log</th>\n",
              "      <th>NumOfProducts_log</th>\n",
              "      <th>Geography_Germany</th>\n",
              "      <th>Geography_Spain</th>\n",
              "      <th>Gender_Male</th>\n",
              "      <th>HasCrCard_Yes</th>\n",
              "      <th>IsActiveMember_Yes</th>\n",
              "    </tr>\n",
              "  </thead>\n",
              "  <tbody>\n",
              "    <tr>\n",
              "      <th>5292</th>\n",
              "      <td>0.976155</td>\n",
              "      <td>0.347046</td>\n",
              "      <td>-1.212523</td>\n",
              "      <td>0.939366</td>\n",
              "      <td>-1.147573</td>\n",
              "      <td>0.901492</td>\n",
              "      <td>0</td>\n",
              "      <td>0</td>\n",
              "      <td>0</td>\n",
              "      <td>1</td>\n",
              "      <td>0</td>\n",
              "    </tr>\n",
              "    <tr>\n",
              "      <th>3879</th>\n",
              "      <td>1.316949</td>\n",
              "      <td>1.377238</td>\n",
              "      <td>1.214872</td>\n",
              "      <td>1.389376</td>\n",
              "      <td>-0.514177</td>\n",
              "      <td>0.901492</td>\n",
              "      <td>0</td>\n",
              "      <td>0</td>\n",
              "      <td>0</td>\n",
              "      <td>0</td>\n",
              "      <td>0</td>\n",
              "    </tr>\n",
              "    <tr>\n",
              "      <th>6118</th>\n",
              "      <td>-0.190810</td>\n",
              "      <td>0.003649</td>\n",
              "      <td>1.473810</td>\n",
              "      <td>0.692477</td>\n",
              "      <td>1.009771</td>\n",
              "      <td>-0.962075</td>\n",
              "      <td>0</td>\n",
              "      <td>0</td>\n",
              "      <td>0</td>\n",
              "      <td>0</td>\n",
              "      <td>0</td>\n",
              "    </tr>\n",
              "    <tr>\n",
              "      <th>4044</th>\n",
              "      <td>0.077695</td>\n",
              "      <td>1.033841</td>\n",
              "      <td>-1.212523</td>\n",
              "      <td>-0.347954</td>\n",
              "      <td>-0.632803</td>\n",
              "      <td>-0.962075</td>\n",
              "      <td>0</td>\n",
              "      <td>0</td>\n",
              "      <td>1</td>\n",
              "      <td>1</td>\n",
              "      <td>1</td>\n",
              "    </tr>\n",
              "    <tr>\n",
              "      <th>3202</th>\n",
              "      <td>-0.893054</td>\n",
              "      <td>-0.339749</td>\n",
              "      <td>0.961751</td>\n",
              "      <td>-0.647963</td>\n",
              "      <td>-0.514177</td>\n",
              "      <td>-0.962075</td>\n",
              "      <td>0</td>\n",
              "      <td>0</td>\n",
              "      <td>0</td>\n",
              "      <td>1</td>\n",
              "      <td>0</td>\n",
              "    </tr>\n",
              "  </tbody>\n",
              "</table>\n",
              "</div>\n",
              "      <button class=\"colab-df-convert\" onclick=\"convertToInteractive('df-896486eb-2d9e-45a1-9a81-f644a957d41a')\"\n",
              "              title=\"Convert this dataframe to an interactive table.\"\n",
              "              style=\"display:none;\">\n",
              "        \n",
              "  <svg xmlns=\"http://www.w3.org/2000/svg\" height=\"24px\"viewBox=\"0 0 24 24\"\n",
              "       width=\"24px\">\n",
              "    <path d=\"M0 0h24v24H0V0z\" fill=\"none\"/>\n",
              "    <path d=\"M18.56 5.44l.94 2.06.94-2.06 2.06-.94-2.06-.94-.94-2.06-.94 2.06-2.06.94zm-11 1L8.5 8.5l.94-2.06 2.06-.94-2.06-.94L8.5 2.5l-.94 2.06-2.06.94zm10 10l.94 2.06.94-2.06 2.06-.94-2.06-.94-.94-2.06-.94 2.06-2.06.94z\"/><path d=\"M17.41 7.96l-1.37-1.37c-.4-.4-.92-.59-1.43-.59-.52 0-1.04.2-1.43.59L10.3 9.45l-7.72 7.72c-.78.78-.78 2.05 0 2.83L4 21.41c.39.39.9.59 1.41.59.51 0 1.02-.2 1.41-.59l7.78-7.78 2.81-2.81c.8-.78.8-2.07 0-2.86zM5.41 20L4 18.59l7.72-7.72 1.47 1.35L5.41 20z\"/>\n",
              "  </svg>\n",
              "      </button>\n",
              "      \n",
              "  <style>\n",
              "    .colab-df-container {\n",
              "      display:flex;\n",
              "      flex-wrap:wrap;\n",
              "      gap: 12px;\n",
              "    }\n",
              "\n",
              "    .colab-df-convert {\n",
              "      background-color: #E8F0FE;\n",
              "      border: none;\n",
              "      border-radius: 50%;\n",
              "      cursor: pointer;\n",
              "      display: none;\n",
              "      fill: #1967D2;\n",
              "      height: 32px;\n",
              "      padding: 0 0 0 0;\n",
              "      width: 32px;\n",
              "    }\n",
              "\n",
              "    .colab-df-convert:hover {\n",
              "      background-color: #E2EBFA;\n",
              "      box-shadow: 0px 1px 2px rgba(60, 64, 67, 0.3), 0px 1px 3px 1px rgba(60, 64, 67, 0.15);\n",
              "      fill: #174EA6;\n",
              "    }\n",
              "\n",
              "    [theme=dark] .colab-df-convert {\n",
              "      background-color: #3B4455;\n",
              "      fill: #D2E3FC;\n",
              "    }\n",
              "\n",
              "    [theme=dark] .colab-df-convert:hover {\n",
              "      background-color: #434B5C;\n",
              "      box-shadow: 0px 1px 3px 1px rgba(0, 0, 0, 0.15);\n",
              "      filter: drop-shadow(0px 1px 2px rgba(0, 0, 0, 0.3));\n",
              "      fill: #FFFFFF;\n",
              "    }\n",
              "  </style>\n",
              "\n",
              "      <script>\n",
              "        const buttonEl =\n",
              "          document.querySelector('#df-896486eb-2d9e-45a1-9a81-f644a957d41a button.colab-df-convert');\n",
              "        buttonEl.style.display =\n",
              "          google.colab.kernel.accessAllowed ? 'block' : 'none';\n",
              "\n",
              "        async function convertToInteractive(key) {\n",
              "          const element = document.querySelector('#df-896486eb-2d9e-45a1-9a81-f644a957d41a');\n",
              "          const dataTable =\n",
              "            await google.colab.kernel.invokeFunction('convertToInteractive',\n",
              "                                                     [key], {});\n",
              "          if (!dataTable) return;\n",
              "\n",
              "          const docLinkHtml = 'Like what you see? Visit the ' +\n",
              "            '<a target=\"_blank\" href=https://colab.research.google.com/notebooks/data_table.ipynb>data table notebook</a>'\n",
              "            + ' to learn more about interactive tables.';\n",
              "          element.innerHTML = '';\n",
              "          dataTable['output_type'] = 'display_data';\n",
              "          await google.colab.output.renderOutput(dataTable, element);\n",
              "          const docLink = document.createElement('div');\n",
              "          docLink.innerHTML = docLinkHtml;\n",
              "          element.appendChild(docLink);\n",
              "        }\n",
              "      </script>\n",
              "    </div>\n",
              "  </div>\n",
              "  "
            ]
          },
          "metadata": {},
          "execution_count": 125
        }
      ]
    },
    {
      "cell_type": "markdown",
      "source": [
        "As we see, all numerical independent variables have been standardized, and all categorical independent variables have been dummified. "
      ],
      "metadata": {
        "id": "XPzcNp6yQv9Y"
      }
    },
    {
      "cell_type": "markdown",
      "source": [
        "#Model Building#"
      ],
      "metadata": {
        "id": "B_SsqDdDQ_Pf"
      }
    },
    {
      "cell_type": "markdown",
      "source": [
        "##Model Evaluation Criterion##"
      ],
      "metadata": {
        "id": "iOXVNfA2S_eg"
      }
    },
    {
      "cell_type": "markdown",
      "source": [
        "The potential wrong predictions are the following:\n",
        "\n",
        "\n",
        "\n",
        "1.   The model predicts that a customer will exit the bank within 6 months, while in fact, he or she will not exit: False Positive\n",
        "2.   The model predicts that a customer will not exit the bank within 6 months, while in fact, he or she will exit: False Negative\n",
        "\n",
        "The first prediction results in a loss of resources (e.g., services, offers, promotions) developed with the purpose that the customer will not exit within 6 months. On the other hand, the second prediction results in loss of opportunity (i.e., the customer), which is against the main purpose of the bank, that is improving its services to keep the customer. \n",
        "\n",
        "Therefore, Recall score in model building should be maximized to reduce the rate of false negative. "
      ],
      "metadata": {
        "id": "vDQ-ypfGSku0"
      }
    },
    {
      "cell_type": "code",
      "source": [
        "def make_confusion_matrix(cf,\n",
        "                          group_names=None,\n",
        "                          categories='auto',\n",
        "                          count=True,\n",
        "                          percent=True,\n",
        "                          cbar=True,\n",
        "                          xyticks=True,\n",
        "                          xyplotlabels=True,\n",
        "                          sum_stats=True,\n",
        "                          figsize=None,\n",
        "                          cmap='Blues',\n",
        "                          title=None):\n",
        "  \n",
        "    blanks = ['' for i in range(cf.size)]\n",
        "\n",
        "    if group_names and len(group_names)==cf.size:\n",
        "        group_labels = [\"{}\\n\".format(value) for value in group_names]\n",
        "    else:\n",
        "        group_labels = blanks\n",
        "\n",
        "    if count:\n",
        "        group_counts = [\"{0:0.0f}\\n\".format(value) for value in cf.flatten()]\n",
        "    else:\n",
        "        group_counts = blanks\n",
        "\n",
        "    if percent:\n",
        "        group_percentages = [\"{0:.2%}\".format(value) for value in cf.flatten()/np.sum(cf)]\n",
        "    else:\n",
        "        group_percentages = blanks\n",
        "\n",
        "    box_labels = [f\"{v1}{v2}{v3}\".strip() for v1, v2, v3 in zip(group_labels,group_counts,group_percentages)]\n",
        "    box_labels = np.asarray(box_labels).reshape(cf.shape[0],cf.shape[1])\n",
        "\n",
        "    if sum_stats:\n",
        "        \n",
        "        accuracy  = np.trace(cf) / float(np.sum(cf))\n",
        "        if len(cf)==2:\n",
        "            precision = cf[1,1] / sum(cf[:,1])\n",
        "            recall    = cf[1,1] / sum(cf[1,:])\n",
        "            f1_score  = 2*precision*recall / (precision + recall)\n",
        "            stats_text = \"\\n\\nAccuracy={:0.3f}\\nPrecision={:0.3f}\\nRecall={:0.3f}\\nF1 Score={:0.3f}\".format(\n",
        "                accuracy,precision,recall,f1_score)\n",
        "        else:\n",
        "            stats_text = \"\\n\\nAccuracy={:0.3f}\".format(accuracy)\n",
        "    else:\n",
        "        stats_text = \"\"\n",
        "\n",
        "    if figsize==None:\n",
        "        figsize = plt.rcParams.get('figure.figsize')\n",
        "\n",
        "    if xyticks==False:\n",
        "        categories=False\n",
        "\n",
        "    plt.figure(figsize=figsize)\n",
        "    sns.heatmap(cf,annot=box_labels,fmt=\"\",cmap=cmap,cbar=cbar,xticklabels=categories,yticklabels=categories)\n",
        "\n",
        "    if xyplotlabels:\n",
        "        plt.ylabel('True label')\n",
        "        plt.xlabel('Predicted label' + stats_text)\n",
        "    else:\n",
        "        plt.xlabel(stats_text)\n",
        "    \n",
        "    if title:\n",
        "        plt.title(title)"
      ],
      "metadata": {
        "id": "mj3qbW_lX0E7"
      },
      "execution_count": null,
      "outputs": []
    },
    {
      "cell_type": "markdown",
      "source": [
        "##Model 1##"
      ],
      "metadata": {
        "id": "fH9KQO3vmWIi"
      }
    },
    {
      "cell_type": "code",
      "source": [
        "backend.clear_session()\n",
        "# I will use seed function to create random number generators, so we can receive the same output in every analysis\n",
        "np.random.seed(42)\n",
        "import random\n",
        "random.seed(42)\n",
        "tensorflow.random.set_seed(42)"
      ],
      "metadata": {
        "id": "LSUeWvqaQids"
      },
      "execution_count": null,
      "outputs": []
    },
    {
      "cell_type": "code",
      "source": [
        "# Initializing the model\n",
        "model = Sequential()\n",
        "# Adding input layer with 256 neurons, relu as activation function and, he_normal as weight initializer.\n",
        "model.add(Dense(256, activation='relu', kernel_initializer='he_normal', input_shape=(11,)))\n",
        "# Adding the first hidden layer with 128 neurons, others are same\n",
        "model.add(Dense(128, activation='relu',kernel_initializer='he_normal'))\n",
        "# Adding the second hidden layer with 64 neurons, other are same\n",
        "model.add(Dense(64, activation='relu',kernel_initializer='he_normal'))\n",
        "# Adding the output layer with one neuron and sigmoid as activation function\n",
        "model.add(Dense(1, activation='sigmoid'))"
      ],
      "metadata": {
        "id": "ulQip4bzrpmO"
      },
      "execution_count": null,
      "outputs": []
    },
    {
      "cell_type": "code",
      "source": [
        "model.summary()"
      ],
      "metadata": {
        "colab": {
          "base_uri": "https://localhost:8080/"
        },
        "id": "6BdMkJaLxx24",
        "outputId": "79e84f68-fe71-429f-9066-38f1e17a160a"
      },
      "execution_count": null,
      "outputs": [
        {
          "output_type": "stream",
          "name": "stdout",
          "text": [
            "Model: \"sequential\"\n",
            "_________________________________________________________________\n",
            " Layer (type)                Output Shape              Param #   \n",
            "=================================================================\n",
            " dense (Dense)               (None, 256)               3072      \n",
            "                                                                 \n",
            " dense_1 (Dense)             (None, 128)               32896     \n",
            "                                                                 \n",
            " dense_2 (Dense)             (None, 64)                8256      \n",
            "                                                                 \n",
            " dense_3 (Dense)             (None, 1)                 65        \n",
            "                                                                 \n",
            "=================================================================\n",
            "Total params: 44,289\n",
            "Trainable params: 44,289\n",
            "Non-trainable params: 0\n",
            "_________________________________________________________________\n"
          ]
        }
      ]
    },
    {
      "cell_type": "code",
      "source": [
        "adam = optimizers.Adam(learning_rate=1e-3)"
      ],
      "metadata": {
        "id": "7QMXZ7c2x4eA"
      },
      "execution_count": null,
      "outputs": []
    },
    {
      "cell_type": "code",
      "source": [
        "model.compile(loss=losses.binary_crossentropy, optimizer=adam, metrics=['accuracy'])"
      ],
      "metadata": {
        "id": "6ldMETzEyeew"
      },
      "execution_count": null,
      "outputs": []
    },
    {
      "cell_type": "code",
      "source": [
        "history = model.fit(X_train, y_train, validation_data=(X_val, y_val), epochs=50, batch_size=128)"
      ],
      "metadata": {
        "colab": {
          "base_uri": "https://localhost:8080/"
        },
        "id": "Nc-Zs9_kyq1O",
        "outputId": "1ae83f7f-3a3d-4be7-8a7b-2aeb4963b72d"
      },
      "execution_count": null,
      "outputs": [
        {
          "output_type": "stream",
          "name": "stdout",
          "text": [
            "Epoch 1/50\n",
            "50/50 [==============================] - 1s 8ms/step - loss: 0.5434 - accuracy: 0.7595 - val_loss: 0.4157 - val_accuracy: 0.8225\n",
            "Epoch 2/50\n",
            "50/50 [==============================] - 0s 5ms/step - loss: 0.3953 - accuracy: 0.8366 - val_loss: 0.3832 - val_accuracy: 0.8331\n",
            "Epoch 3/50\n",
            "50/50 [==============================] - 0s 4ms/step - loss: 0.3627 - accuracy: 0.8498 - val_loss: 0.3664 - val_accuracy: 0.8475\n",
            "Epoch 4/50\n",
            "50/50 [==============================] - 0s 4ms/step - loss: 0.3476 - accuracy: 0.8544 - val_loss: 0.3695 - val_accuracy: 0.8425\n",
            "Epoch 5/50\n",
            "50/50 [==============================] - 0s 3ms/step - loss: 0.3392 - accuracy: 0.8587 - val_loss: 0.3649 - val_accuracy: 0.8450\n",
            "Epoch 6/50\n",
            "50/50 [==============================] - 0s 4ms/step - loss: 0.3298 - accuracy: 0.8647 - val_loss: 0.3681 - val_accuracy: 0.8419\n",
            "Epoch 7/50\n",
            "50/50 [==============================] - 0s 5ms/step - loss: 0.3248 - accuracy: 0.8648 - val_loss: 0.3659 - val_accuracy: 0.8394\n",
            "Epoch 8/50\n",
            "50/50 [==============================] - 0s 4ms/step - loss: 0.3140 - accuracy: 0.8694 - val_loss: 0.3738 - val_accuracy: 0.8381\n",
            "Epoch 9/50\n",
            "50/50 [==============================] - 0s 4ms/step - loss: 0.3105 - accuracy: 0.8694 - val_loss: 0.3649 - val_accuracy: 0.8481\n",
            "Epoch 10/50\n",
            "50/50 [==============================] - 0s 4ms/step - loss: 0.3022 - accuracy: 0.8773 - val_loss: 0.3750 - val_accuracy: 0.8431\n",
            "Epoch 11/50\n",
            "50/50 [==============================] - 0s 4ms/step - loss: 0.2993 - accuracy: 0.8719 - val_loss: 0.3773 - val_accuracy: 0.8406\n",
            "Epoch 12/50\n",
            "50/50 [==============================] - 0s 6ms/step - loss: 0.2907 - accuracy: 0.8808 - val_loss: 0.3745 - val_accuracy: 0.8500\n",
            "Epoch 13/50\n",
            "50/50 [==============================] - 0s 6ms/step - loss: 0.2858 - accuracy: 0.8806 - val_loss: 0.3765 - val_accuracy: 0.8394\n",
            "Epoch 14/50\n",
            "50/50 [==============================] - 0s 5ms/step - loss: 0.2821 - accuracy: 0.8814 - val_loss: 0.3828 - val_accuracy: 0.8394\n",
            "Epoch 15/50\n",
            "50/50 [==============================] - 0s 6ms/step - loss: 0.2747 - accuracy: 0.8816 - val_loss: 0.3980 - val_accuracy: 0.8363\n",
            "Epoch 16/50\n",
            "50/50 [==============================] - 0s 5ms/step - loss: 0.2694 - accuracy: 0.8852 - val_loss: 0.3861 - val_accuracy: 0.8438\n",
            "Epoch 17/50\n",
            "50/50 [==============================] - 0s 5ms/step - loss: 0.2636 - accuracy: 0.8873 - val_loss: 0.3900 - val_accuracy: 0.8381\n",
            "Epoch 18/50\n",
            "50/50 [==============================] - 0s 5ms/step - loss: 0.2568 - accuracy: 0.8920 - val_loss: 0.3963 - val_accuracy: 0.8425\n",
            "Epoch 19/50\n",
            "50/50 [==============================] - 0s 6ms/step - loss: 0.2546 - accuracy: 0.8903 - val_loss: 0.4079 - val_accuracy: 0.8350\n",
            "Epoch 20/50\n",
            "50/50 [==============================] - 0s 6ms/step - loss: 0.2508 - accuracy: 0.8941 - val_loss: 0.4018 - val_accuracy: 0.8350\n",
            "Epoch 21/50\n",
            "50/50 [==============================] - 0s 5ms/step - loss: 0.2423 - accuracy: 0.8978 - val_loss: 0.4137 - val_accuracy: 0.8381\n",
            "Epoch 22/50\n",
            "50/50 [==============================] - 0s 6ms/step - loss: 0.2419 - accuracy: 0.8973 - val_loss: 0.4154 - val_accuracy: 0.8425\n",
            "Epoch 23/50\n",
            "50/50 [==============================] - 0s 5ms/step - loss: 0.2326 - accuracy: 0.9002 - val_loss: 0.4377 - val_accuracy: 0.8425\n",
            "Epoch 24/50\n",
            "50/50 [==============================] - 0s 4ms/step - loss: 0.2257 - accuracy: 0.9077 - val_loss: 0.4249 - val_accuracy: 0.8462\n",
            "Epoch 25/50\n",
            "50/50 [==============================] - 0s 4ms/step - loss: 0.2227 - accuracy: 0.9039 - val_loss: 0.4406 - val_accuracy: 0.8313\n",
            "Epoch 26/50\n",
            "50/50 [==============================] - 0s 4ms/step - loss: 0.2200 - accuracy: 0.9062 - val_loss: 0.4498 - val_accuracy: 0.8331\n",
            "Epoch 27/50\n",
            "50/50 [==============================] - 0s 4ms/step - loss: 0.2129 - accuracy: 0.9102 - val_loss: 0.4427 - val_accuracy: 0.8338\n",
            "Epoch 28/50\n",
            "50/50 [==============================] - 0s 4ms/step - loss: 0.2043 - accuracy: 0.9173 - val_loss: 0.4457 - val_accuracy: 0.8406\n",
            "Epoch 29/50\n",
            "50/50 [==============================] - 0s 4ms/step - loss: 0.1916 - accuracy: 0.9206 - val_loss: 0.4787 - val_accuracy: 0.8356\n",
            "Epoch 30/50\n",
            "50/50 [==============================] - 0s 4ms/step - loss: 0.1879 - accuracy: 0.9219 - val_loss: 0.4685 - val_accuracy: 0.8350\n",
            "Epoch 31/50\n",
            "50/50 [==============================] - 0s 4ms/step - loss: 0.1837 - accuracy: 0.9261 - val_loss: 0.4891 - val_accuracy: 0.8331\n",
            "Epoch 32/50\n",
            "50/50 [==============================] - 0s 4ms/step - loss: 0.1794 - accuracy: 0.9252 - val_loss: 0.4787 - val_accuracy: 0.8325\n",
            "Epoch 33/50\n",
            "50/50 [==============================] - 0s 4ms/step - loss: 0.1759 - accuracy: 0.9280 - val_loss: 0.4914 - val_accuracy: 0.8256\n",
            "Epoch 34/50\n",
            "50/50 [==============================] - 0s 3ms/step - loss: 0.1702 - accuracy: 0.9300 - val_loss: 0.4912 - val_accuracy: 0.8338\n",
            "Epoch 35/50\n",
            "50/50 [==============================] - 0s 4ms/step - loss: 0.1652 - accuracy: 0.9353 - val_loss: 0.5255 - val_accuracy: 0.8188\n",
            "Epoch 36/50\n",
            "50/50 [==============================] - 0s 4ms/step - loss: 0.1550 - accuracy: 0.9389 - val_loss: 0.5299 - val_accuracy: 0.8169\n",
            "Epoch 37/50\n",
            "50/50 [==============================] - 0s 5ms/step - loss: 0.1508 - accuracy: 0.9409 - val_loss: 0.5174 - val_accuracy: 0.8350\n",
            "Epoch 38/50\n",
            "50/50 [==============================] - 0s 4ms/step - loss: 0.1427 - accuracy: 0.9428 - val_loss: 0.5463 - val_accuracy: 0.8206\n",
            "Epoch 39/50\n",
            "50/50 [==============================] - 0s 4ms/step - loss: 0.1375 - accuracy: 0.9466 - val_loss: 0.5647 - val_accuracy: 0.8344\n",
            "Epoch 40/50\n",
            "50/50 [==============================] - 0s 4ms/step - loss: 0.1318 - accuracy: 0.9475 - val_loss: 0.5559 - val_accuracy: 0.8263\n",
            "Epoch 41/50\n",
            "50/50 [==============================] - 0s 4ms/step - loss: 0.1244 - accuracy: 0.9533 - val_loss: 0.5677 - val_accuracy: 0.8313\n",
            "Epoch 42/50\n",
            "50/50 [==============================] - 0s 5ms/step - loss: 0.1219 - accuracy: 0.9527 - val_loss: 0.5793 - val_accuracy: 0.8219\n",
            "Epoch 43/50\n",
            "50/50 [==============================] - 0s 5ms/step - loss: 0.1153 - accuracy: 0.9559 - val_loss: 0.6108 - val_accuracy: 0.8394\n",
            "Epoch 44/50\n",
            "50/50 [==============================] - 0s 4ms/step - loss: 0.1184 - accuracy: 0.9531 - val_loss: 0.6169 - val_accuracy: 0.8225\n",
            "Epoch 45/50\n",
            "50/50 [==============================] - 0s 4ms/step - loss: 0.1068 - accuracy: 0.9591 - val_loss: 0.6286 - val_accuracy: 0.8188\n",
            "Epoch 46/50\n",
            "50/50 [==============================] - 0s 5ms/step - loss: 0.1084 - accuracy: 0.9603 - val_loss: 0.6370 - val_accuracy: 0.8169\n",
            "Epoch 47/50\n",
            "50/50 [==============================] - 0s 4ms/step - loss: 0.0951 - accuracy: 0.9677 - val_loss: 0.6566 - val_accuracy: 0.8225\n",
            "Epoch 48/50\n",
            "50/50 [==============================] - 0s 4ms/step - loss: 0.0949 - accuracy: 0.9648 - val_loss: 0.6442 - val_accuracy: 0.8081\n",
            "Epoch 49/50\n",
            "50/50 [==============================] - 0s 4ms/step - loss: 0.0912 - accuracy: 0.9669 - val_loss: 0.6805 - val_accuracy: 0.8181\n",
            "Epoch 50/50\n",
            "50/50 [==============================] - 0s 4ms/step - loss: 0.0878 - accuracy: 0.9686 - val_loss: 0.6923 - val_accuracy: 0.8319\n"
          ]
        }
      ]
    },
    {
      "cell_type": "code",
      "source": [
        "plt.plot(history.history['accuracy'])\n",
        "plt.plot(history.history['val_accuracy'])\n",
        "plt.title('Accuracy vs Epochs')\n",
        "plt.ylabel('Accuracy')\n",
        "plt.xlabel('Epoch')\n",
        "plt.legend(['Train', 'Validation'], loc='lower right')\n",
        "plt.show()"
      ],
      "metadata": {
        "colab": {
          "base_uri": "https://localhost:8080/",
          "height": 295
        },
        "id": "ErOPHaM13J6i",
        "outputId": "70aa2296-fb06-49ec-f913-3bc38a4cfcd4"
      },
      "execution_count": null,
      "outputs": [
        {
          "output_type": "display_data",
          "data": {
            "text/plain": [
              "<Figure size 432x288 with 1 Axes>"
            ],
            "image/png": "[encoded data removed]"
          },
          "metadata": {
            "needs_background": "light"
          }
        }
      ]
    },
    {
      "cell_type": "markdown",
      "source": [
        "Whereas training accuracy got better in each consecutive epoch, validation accuracy stayed similar, so the difference between training accuracy and validation accuracy increased epoch by epoch. Therefore, although training accuracy gets above 95%, validation accuracy stays around 80-85. It indicates an overfitting problem in my neural network model. I need to solve that issue by tweaking some hyperparameters and reducing the number of layers or nodes."
      ],
      "metadata": {
        "id": "uiWftx-a2o8t"
      }
    },
    {
      "cell_type": "code",
      "source": [
        "model.evaluate(X_test, y_test, verbose = 1)\n",
        "test_pred1 = np.round(model.predict(X_test))"
      ],
      "metadata": {
        "colab": {
          "base_uri": "https://localhost:8080/"
        },
        "id": "cq4kuMCRYa9_",
        "outputId": "8fcb2753-752b-4d4b-f623-f31ddb3c9b77"
      },
      "execution_count": null,
      "outputs": [
        {
          "output_type": "stream",
          "name": "stdout",
          "text": [
            "63/63 [==============================] - 0s 2ms/step - loss: 0.6334 - accuracy: 0.8320\n",
            "63/63 [==============================] - 0s 1ms/step\n"
          ]
        }
      ]
    },
    {
      "cell_type": "code",
      "source": [
        "from sklearn.metrics import classification_report\n",
        "from sklearn.metrics import confusion_matrix\n",
        "\n",
        "print(classification_report(y_test, test_pred1))\n",
        "cm = confusion_matrix(y_test, test_pred1)\n",
        "plt.figure(figsize=(8,5))\n",
        "sns.heatmap(cm, annot=True,  fmt='.0f',xticklabels=['Not Exited', 'Exited'], yticklabels=['Not Exited', 'Exited'])\n",
        "plt.ylabel('Actual')\n",
        "plt.xlabel('Predicted')\n",
        "plt.show()"
      ],
      "metadata": {
        "colab": {
          "base_uri": "https://localhost:8080/",
          "height": 495
        },
        "id": "Vs8S6Dv7YBGg",
        "outputId": "02c69f12-4497-4288-9e1a-5066c797d105"
      },
      "execution_count": null,
      "outputs": [
        {
          "output_type": "stream",
          "name": "stdout",
          "text": [
            "              precision    recall  f1-score   support\n",
            "\n",
            "           0       0.87      0.93      0.90      1593\n",
            "           1       0.62      0.44      0.52       407\n",
            "\n",
            "    accuracy                           0.83      2000\n",
            "   macro avg       0.75      0.69      0.71      2000\n",
            "weighted avg       0.82      0.83      0.82      2000\n",
            "\n"
          ]
        },
        {
          "output_type": "display_data",
          "data": {
            "text/plain": [
              "<Figure size 576x360 with 2 Axes>"
            ],
            "image/png": "[encoded data removed]"
          },
          "metadata": {
            "needs_background": "light"
          }
        }
      ]
    },
    {
      "cell_type": "markdown",
      "source": [
        "##Model 2##"
      ],
      "metadata": {
        "id": "_f7xfep16YJf"
      }
    },
    {
      "cell_type": "code",
      "source": [
        "# I will clear the backend\n",
        "from tensorflow.keras import backend\n",
        "backend.clear_session()"
      ],
      "metadata": {
        "id": "XeLOmr1m0aqG"
      },
      "execution_count": null,
      "outputs": []
    },
    {
      "cell_type": "code",
      "source": [
        "# Using random seed again\n",
        "\n",
        "np.random.seed(42)\n",
        "\n",
        "import random\n",
        "random.seed(42)\n",
        "\n",
        "tensorflow.random.set_seed(42)"
      ],
      "metadata": {
        "id": "WD-M07Xy6ftw"
      },
      "execution_count": null,
      "outputs": []
    },
    {
      "cell_type": "code",
      "source": [
        "# Initializing the model\n",
        "model2 = Sequential()\n",
        "model2.add(Dense(128, activation='tanh', kernel_initializer='he_normal', input_shape=(11,)))\n",
        "model2.add(Dense(64, activation='tanh',kernel_initializer='he_normal'))\n",
        "model2.add(Dense(32, activation='tanh',kernel_initializer='he_normal'))\n",
        "model2.add(Dense(1, activation='sigmoid'))"
      ],
      "metadata": {
        "id": "9Z2-IRHu6mVV"
      },
      "execution_count": null,
      "outputs": []
    },
    {
      "cell_type": "code",
      "source": [
        "adam = optimizers.Adam(learning_rate=1e-3)\n",
        "model2.compile(loss=losses.binary_crossentropy, optimizer=adam, metrics=['accuracy'])"
      ],
      "metadata": {
        "id": "aSQtBBue651B"
      },
      "execution_count": null,
      "outputs": []
    },
    {
      "cell_type": "code",
      "source": [
        "history = model2.fit(X_train, y_train, validation_data=(X_val, y_val), epochs=50, batch_size=128)"
      ],
      "metadata": {
        "colab": {
          "base_uri": "https://localhost:8080/"
        },
        "id": "VEw2xWmI7BTo",
        "outputId": "3d638196-cce9-4f3a-8caa-5c9a830ed8af"
      },
      "execution_count": null,
      "outputs": [
        {
          "output_type": "stream",
          "name": "stdout",
          "text": [
            "Epoch 1/50\n",
            "50/50 [==============================] - 1s 6ms/step - loss: 0.4447 - accuracy: 0.8019 - val_loss: 0.3997 - val_accuracy: 0.8275\n",
            "Epoch 2/50\n",
            "50/50 [==============================] - 0s 2ms/step - loss: 0.3859 - accuracy: 0.8359 - val_loss: 0.3795 - val_accuracy: 0.8369\n",
            "Epoch 3/50\n",
            "50/50 [==============================] - 0s 2ms/step - loss: 0.3646 - accuracy: 0.8491 - val_loss: 0.3652 - val_accuracy: 0.8413\n",
            "Epoch 4/50\n",
            "50/50 [==============================] - 0s 2ms/step - loss: 0.3548 - accuracy: 0.8522 - val_loss: 0.3661 - val_accuracy: 0.8388\n",
            "Epoch 5/50\n",
            "50/50 [==============================] - 0s 3ms/step - loss: 0.3451 - accuracy: 0.8586 - val_loss: 0.3602 - val_accuracy: 0.8450\n",
            "Epoch 6/50\n",
            "50/50 [==============================] - 0s 3ms/step - loss: 0.3382 - accuracy: 0.8605 - val_loss: 0.3625 - val_accuracy: 0.8500\n",
            "Epoch 7/50\n",
            "50/50 [==============================] - 0s 2ms/step - loss: 0.3341 - accuracy: 0.8645 - val_loss: 0.3538 - val_accuracy: 0.8531\n",
            "Epoch 8/50\n",
            "50/50 [==============================] - 0s 2ms/step - loss: 0.3274 - accuracy: 0.8683 - val_loss: 0.3556 - val_accuracy: 0.8487\n",
            "Epoch 9/50\n",
            "50/50 [==============================] - 0s 3ms/step - loss: 0.3263 - accuracy: 0.8672 - val_loss: 0.3567 - val_accuracy: 0.8525\n",
            "Epoch 10/50\n",
            "50/50 [==============================] - 0s 3ms/step - loss: 0.3205 - accuracy: 0.8723 - val_loss: 0.3593 - val_accuracy: 0.8519\n",
            "Epoch 11/50\n",
            "50/50 [==============================] - 0s 3ms/step - loss: 0.3192 - accuracy: 0.8672 - val_loss: 0.3593 - val_accuracy: 0.8475\n",
            "Epoch 12/50\n",
            "50/50 [==============================] - 0s 3ms/step - loss: 0.3132 - accuracy: 0.8703 - val_loss: 0.3592 - val_accuracy: 0.8512\n",
            "Epoch 13/50\n",
            "50/50 [==============================] - 0s 3ms/step - loss: 0.3112 - accuracy: 0.8717 - val_loss: 0.3605 - val_accuracy: 0.8519\n",
            "Epoch 14/50\n",
            "50/50 [==============================] - 0s 3ms/step - loss: 0.3099 - accuracy: 0.8722 - val_loss: 0.3639 - val_accuracy: 0.8400\n",
            "Epoch 15/50\n",
            "50/50 [==============================] - 0s 3ms/step - loss: 0.3062 - accuracy: 0.8731 - val_loss: 0.3632 - val_accuracy: 0.8494\n",
            "Epoch 16/50\n",
            "50/50 [==============================] - 0s 4ms/step - loss: 0.3026 - accuracy: 0.8748 - val_loss: 0.3606 - val_accuracy: 0.8475\n",
            "Epoch 17/50\n",
            "50/50 [==============================] - 0s 3ms/step - loss: 0.3006 - accuracy: 0.8739 - val_loss: 0.3595 - val_accuracy: 0.8475\n",
            "Epoch 18/50\n",
            "50/50 [==============================] - 0s 3ms/step - loss: 0.2987 - accuracy: 0.8767 - val_loss: 0.3603 - val_accuracy: 0.8469\n",
            "Epoch 19/50\n",
            "50/50 [==============================] - 0s 3ms/step - loss: 0.2950 - accuracy: 0.8786 - val_loss: 0.3647 - val_accuracy: 0.8481\n",
            "Epoch 20/50\n",
            "50/50 [==============================] - 0s 3ms/step - loss: 0.2926 - accuracy: 0.8758 - val_loss: 0.3612 - val_accuracy: 0.8475\n",
            "Epoch 21/50\n",
            "50/50 [==============================] - 0s 4ms/step - loss: 0.2923 - accuracy: 0.8780 - val_loss: 0.3661 - val_accuracy: 0.8462\n",
            "Epoch 22/50\n",
            "50/50 [==============================] - 0s 3ms/step - loss: 0.2878 - accuracy: 0.8795 - val_loss: 0.3653 - val_accuracy: 0.8462\n",
            "Epoch 23/50\n",
            "50/50 [==============================] - 0s 4ms/step - loss: 0.2855 - accuracy: 0.8822 - val_loss: 0.3642 - val_accuracy: 0.8500\n",
            "Epoch 24/50\n",
            "50/50 [==============================] - 0s 4ms/step - loss: 0.2819 - accuracy: 0.8823 - val_loss: 0.3625 - val_accuracy: 0.8512\n",
            "Epoch 25/50\n",
            "50/50 [==============================] - 0s 4ms/step - loss: 0.2795 - accuracy: 0.8825 - val_loss: 0.3671 - val_accuracy: 0.8531\n",
            "Epoch 26/50\n",
            "50/50 [==============================] - 0s 5ms/step - loss: 0.2786 - accuracy: 0.8847 - val_loss: 0.3705 - val_accuracy: 0.8456\n",
            "Epoch 27/50\n",
            "50/50 [==============================] - 0s 4ms/step - loss: 0.2740 - accuracy: 0.8853 - val_loss: 0.3710 - val_accuracy: 0.8525\n",
            "Epoch 28/50\n",
            "50/50 [==============================] - 0s 3ms/step - loss: 0.2744 - accuracy: 0.8866 - val_loss: 0.3733 - val_accuracy: 0.8512\n",
            "Epoch 29/50\n",
            "50/50 [==============================] - 0s 3ms/step - loss: 0.2678 - accuracy: 0.8864 - val_loss: 0.3767 - val_accuracy: 0.8500\n",
            "Epoch 30/50\n",
            "50/50 [==============================] - 0s 4ms/step - loss: 0.2671 - accuracy: 0.8881 - val_loss: 0.3765 - val_accuracy: 0.8544\n",
            "Epoch 31/50\n",
            "50/50 [==============================] - 0s 4ms/step - loss: 0.2665 - accuracy: 0.8873 - val_loss: 0.3769 - val_accuracy: 0.8487\n",
            "Epoch 32/50\n",
            "50/50 [==============================] - 0s 5ms/step - loss: 0.2603 - accuracy: 0.8933 - val_loss: 0.3807 - val_accuracy: 0.8481\n",
            "Epoch 33/50\n",
            "50/50 [==============================] - 0s 3ms/step - loss: 0.2607 - accuracy: 0.8891 - val_loss: 0.3790 - val_accuracy: 0.8481\n",
            "Epoch 34/50\n",
            "50/50 [==============================] - 0s 4ms/step - loss: 0.2560 - accuracy: 0.8923 - val_loss: 0.3865 - val_accuracy: 0.8487\n",
            "Epoch 35/50\n",
            "50/50 [==============================] - 0s 3ms/step - loss: 0.2564 - accuracy: 0.8938 - val_loss: 0.3868 - val_accuracy: 0.8506\n",
            "Epoch 36/50\n",
            "50/50 [==============================] - 0s 4ms/step - loss: 0.2515 - accuracy: 0.8939 - val_loss: 0.3915 - val_accuracy: 0.8431\n",
            "Epoch 37/50\n",
            "50/50 [==============================] - 0s 4ms/step - loss: 0.2489 - accuracy: 0.8925 - val_loss: 0.3988 - val_accuracy: 0.8438\n",
            "Epoch 38/50\n",
            "50/50 [==============================] - 0s 3ms/step - loss: 0.2483 - accuracy: 0.8961 - val_loss: 0.3938 - val_accuracy: 0.8494\n",
            "Epoch 39/50\n",
            "50/50 [==============================] - 0s 4ms/step - loss: 0.2428 - accuracy: 0.8991 - val_loss: 0.3975 - val_accuracy: 0.8462\n",
            "Epoch 40/50\n",
            "50/50 [==============================] - 0s 3ms/step - loss: 0.2399 - accuracy: 0.9000 - val_loss: 0.4046 - val_accuracy: 0.8413\n",
            "Epoch 41/50\n",
            "50/50 [==============================] - 0s 4ms/step - loss: 0.2379 - accuracy: 0.9006 - val_loss: 0.3961 - val_accuracy: 0.8425\n",
            "Epoch 42/50\n",
            "50/50 [==============================] - 0s 4ms/step - loss: 0.2335 - accuracy: 0.9011 - val_loss: 0.4039 - val_accuracy: 0.8438\n",
            "Epoch 43/50\n",
            "50/50 [==============================] - 0s 3ms/step - loss: 0.2313 - accuracy: 0.9052 - val_loss: 0.4076 - val_accuracy: 0.8388\n",
            "Epoch 44/50\n",
            "50/50 [==============================] - 0s 3ms/step - loss: 0.2277 - accuracy: 0.9052 - val_loss: 0.4126 - val_accuracy: 0.8400\n",
            "Epoch 45/50\n",
            "50/50 [==============================] - 0s 4ms/step - loss: 0.2280 - accuracy: 0.9069 - val_loss: 0.4116 - val_accuracy: 0.8419\n",
            "Epoch 46/50\n",
            "50/50 [==============================] - 0s 5ms/step - loss: 0.2214 - accuracy: 0.9086 - val_loss: 0.4096 - val_accuracy: 0.8450\n",
            "Epoch 47/50\n",
            "50/50 [==============================] - 0s 3ms/step - loss: 0.2194 - accuracy: 0.9080 - val_loss: 0.4205 - val_accuracy: 0.8381\n",
            "Epoch 48/50\n",
            "50/50 [==============================] - 0s 3ms/step - loss: 0.2194 - accuracy: 0.9095 - val_loss: 0.4244 - val_accuracy: 0.8419\n",
            "Epoch 49/50\n",
            "50/50 [==============================] - 0s 3ms/step - loss: 0.2146 - accuracy: 0.9137 - val_loss: 0.4290 - val_accuracy: 0.8406\n",
            "Epoch 50/50\n",
            "50/50 [==============================] - 0s 3ms/step - loss: 0.2110 - accuracy: 0.9112 - val_loss: 0.4350 - val_accuracy: 0.8313\n"
          ]
        }
      ]
    },
    {
      "cell_type": "code",
      "source": [
        "plt.plot(history.history['accuracy'])\n",
        "plt.plot(history.history['val_accuracy'])\n",
        "plt.title('Accuracy vs Epochs')\n",
        "plt.ylabel('Accuracy')\n",
        "plt.xlabel('Epoch')\n",
        "plt.legend(['Train', 'Validation'], loc='lower right')\n",
        "plt.show()"
      ],
      "metadata": {
        "colab": {
          "base_uri": "https://localhost:8080/",
          "height": 295
        },
        "id": "hE2fRA5Z7Esd",
        "outputId": "ccf51d28-4c0f-45f5-a547-4cefe058f6cf"
      },
      "execution_count": null,
      "outputs": [
        {
          "output_type": "display_data",
          "data": {
            "text/plain": [
              "<Figure size 432x288 with 1 Axes>"
            ],
            "image/png": "[encoded data removed]"
          },
          "metadata": {
            "needs_background": "light"
          }
        }
      ]
    },
    {
      "cell_type": "markdown",
      "source": [
        "Reducing the number of nodes slightly decreased the difference between training accuracy and validation accuracy, but there is still an obvious overfitting problem. I will use dropout layer and batch normalization between hidden layers and see if that solves the problem.\n",
        "\n",
        "\n"
      ],
      "metadata": {
        "id": "GA6edxMG78It"
      }
    },
    {
      "cell_type": "code",
      "source": [
        "model2.evaluate(X_test, y_test, verbose = 1)\n",
        "test_pred2 = np.round(model2.predict(X_test))"
      ],
      "metadata": {
        "colab": {
          "base_uri": "https://localhost:8080/"
        },
        "id": "cnKdlPV9YttK",
        "outputId": "2b746beb-e5a6-4df0-98e5-423e16d554cd"
      },
      "execution_count": null,
      "outputs": [
        {
          "output_type": "stream",
          "name": "stdout",
          "text": [
            "63/63 [==============================] - 0s 1ms/step - loss: 0.4058 - accuracy: 0.8415\n",
            "63/63 [==============================] - 0s 1ms/step\n"
          ]
        }
      ]
    },
    {
      "cell_type": "code",
      "source": [
        "from sklearn.metrics import classification_report\n",
        "from sklearn.metrics import confusion_matrix\n",
        "\n",
        "print(classification_report(y_test, test_pred2))\n",
        "cm = confusion_matrix(y_test, test_pred2)\n",
        "plt.figure(figsize=(8,5))\n",
        "sns.heatmap(cm, annot=True,  fmt='.0f',xticklabels=['Not Exited', 'Exited'], yticklabels=['Not Exited', 'Exited'])\n",
        "plt.ylabel('Actual')\n",
        "plt.xlabel('Predicted')\n",
        "plt.show()"
      ],
      "metadata": {
        "colab": {
          "base_uri": "https://localhost:8080/",
          "height": 495
        },
        "id": "C_ieNaMQY9b7",
        "outputId": "ffcd6fec-9456-4306-8d63-7c941922edfd"
      },
      "execution_count": null,
      "outputs": [
        {
          "output_type": "stream",
          "name": "stdout",
          "text": [
            "              precision    recall  f1-score   support\n",
            "\n",
            "           0       0.88      0.93      0.90      1593\n",
            "           1       0.65      0.49      0.56       407\n",
            "\n",
            "    accuracy                           0.84      2000\n",
            "   macro avg       0.76      0.71      0.73      2000\n",
            "weighted avg       0.83      0.84      0.83      2000\n",
            "\n"
          ]
        },
        {
          "output_type": "display_data",
          "data": {
            "text/plain": [
              "<Figure size 576x360 with 2 Axes>"
            ],
            "image/png": "[encoded data removed]"
          },
          "metadata": {
            "needs_background": "light"
          }
        }
      ]
    },
    {
      "cell_type": "markdown",
      "source": [
        "##Model 3##"
      ],
      "metadata": {
        "id": "GUGUqWye8fu0"
      }
    },
    {
      "cell_type": "code",
      "source": [
        "# I will clear the backend\n",
        "from tensorflow.keras import backend\n",
        "backend.clear_session()"
      ],
      "metadata": {
        "id": "5QH_KBuZ72uv"
      },
      "execution_count": null,
      "outputs": []
    },
    {
      "cell_type": "code",
      "source": [
        "# Using random seed again\n",
        "\n",
        "np.random.seed(42)\n",
        "\n",
        "import random\n",
        "random.seed(42)\n",
        "\n",
        "tensorflow.random.set_seed(42)"
      ],
      "metadata": {
        "id": "3mN31m958kOC"
      },
      "execution_count": null,
      "outputs": []
    },
    {
      "cell_type": "code",
      "source": [
        "# Initializing the model\n",
        "model3 = Sequential()\n",
        "model3.add(Dense(128, activation='relu', kernel_initializer='he_normal', input_shape=(11,)))\n",
        "model3.add(Dropout(0.5))\n",
        "model3.add(Dense(64, activation='relu',kernel_initializer='he_normal'))\n",
        "model3.add(Dropout(0.5))\n",
        "model3.add(Dense(32, activation='relu',kernel_initializer='he_normal'))\n",
        "model3.add(BatchNormalization())\n",
        "model3.add(Dense(1, activation='sigmoid'))"
      ],
      "metadata": {
        "id": "K1Z-7iLs8mPR"
      },
      "execution_count": null,
      "outputs": []
    },
    {
      "cell_type": "code",
      "source": [
        "adam = optimizers.Adam(learning_rate=1e-3)\n",
        "model3.compile(loss=losses.binary_crossentropy, optimizer=adam, metrics=['accuracy'])"
      ],
      "metadata": {
        "id": "dj15QCsP883R"
      },
      "execution_count": null,
      "outputs": []
    },
    {
      "cell_type": "code",
      "source": [
        "history = model3.fit(X_train, y_train, validation_data=(X_val, y_val), epochs=100, batch_size=64)"
      ],
      "metadata": {
        "colab": {
          "base_uri": "https://localhost:8080/"
        },
        "id": "pekRuVv89CHI",
        "outputId": "2a35c16a-4c7a-4745-e5e5-8ff65588b781"
      },
      "execution_count": null,
      "outputs": [
        {
          "output_type": "stream",
          "name": "stdout",
          "text": [
            "Epoch 1/100\n",
            "100/100 [==============================] - 1s 4ms/step - loss: 0.6715 - accuracy: 0.6525 - val_loss: 0.4838 - val_accuracy: 0.8037\n",
            "Epoch 2/100\n",
            "100/100 [==============================] - 0s 3ms/step - loss: 0.5243 - accuracy: 0.7627 - val_loss: 0.4387 - val_accuracy: 0.8050\n",
            "Epoch 3/100\n",
            "100/100 [==============================] - 0s 2ms/step - loss: 0.4840 - accuracy: 0.7861 - val_loss: 0.4389 - val_accuracy: 0.8037\n",
            "Epoch 4/100\n",
            "100/100 [==============================] - 0s 3ms/step - loss: 0.4670 - accuracy: 0.8016 - val_loss: 0.4326 - val_accuracy: 0.8062\n",
            "Epoch 5/100\n",
            "100/100 [==============================] - 0s 3ms/step - loss: 0.4587 - accuracy: 0.8030 - val_loss: 0.4305 - val_accuracy: 0.8031\n",
            "Epoch 6/100\n",
            "100/100 [==============================] - 0s 3ms/step - loss: 0.4402 - accuracy: 0.8119 - val_loss: 0.4171 - val_accuracy: 0.8125\n",
            "Epoch 7/100\n",
            "100/100 [==============================] - 0s 3ms/step - loss: 0.4382 - accuracy: 0.8106 - val_loss: 0.4241 - val_accuracy: 0.8075\n",
            "Epoch 8/100\n",
            "100/100 [==============================] - 0s 2ms/step - loss: 0.4304 - accuracy: 0.8161 - val_loss: 0.4058 - val_accuracy: 0.8238\n",
            "Epoch 9/100\n",
            "100/100 [==============================] - 0s 3ms/step - loss: 0.4232 - accuracy: 0.8184 - val_loss: 0.4052 - val_accuracy: 0.8244\n",
            "Epoch 10/100\n",
            "100/100 [==============================] - 0s 2ms/step - loss: 0.4244 - accuracy: 0.8163 - val_loss: 0.4117 - val_accuracy: 0.8244\n",
            "Epoch 11/100\n",
            "100/100 [==============================] - 0s 3ms/step - loss: 0.4147 - accuracy: 0.8200 - val_loss: 0.4043 - val_accuracy: 0.8269\n",
            "Epoch 12/100\n",
            "100/100 [==============================] - 0s 3ms/step - loss: 0.4119 - accuracy: 0.8208 - val_loss: 0.3907 - val_accuracy: 0.8319\n",
            "Epoch 13/100\n",
            "100/100 [==============================] - 0s 3ms/step - loss: 0.4098 - accuracy: 0.8223 - val_loss: 0.3911 - val_accuracy: 0.8331\n",
            "Epoch 14/100\n",
            "100/100 [==============================] - 0s 2ms/step - loss: 0.4039 - accuracy: 0.8250 - val_loss: 0.3964 - val_accuracy: 0.8300\n",
            "Epoch 15/100\n",
            "100/100 [==============================] - 0s 3ms/step - loss: 0.4031 - accuracy: 0.8277 - val_loss: 0.3881 - val_accuracy: 0.8331\n",
            "Epoch 16/100\n",
            "100/100 [==============================] - 0s 3ms/step - loss: 0.4046 - accuracy: 0.8277 - val_loss: 0.3971 - val_accuracy: 0.8275\n",
            "Epoch 17/100\n",
            "100/100 [==============================] - 0s 3ms/step - loss: 0.3946 - accuracy: 0.8286 - val_loss: 0.3849 - val_accuracy: 0.8313\n",
            "Epoch 18/100\n",
            "100/100 [==============================] - 0s 4ms/step - loss: 0.4029 - accuracy: 0.8267 - val_loss: 0.3870 - val_accuracy: 0.8356\n",
            "Epoch 19/100\n",
            "100/100 [==============================] - 0s 4ms/step - loss: 0.3962 - accuracy: 0.8298 - val_loss: 0.3887 - val_accuracy: 0.8300\n",
            "Epoch 20/100\n",
            "100/100 [==============================] - 0s 3ms/step - loss: 0.3888 - accuracy: 0.8361 - val_loss: 0.3889 - val_accuracy: 0.8350\n",
            "Epoch 21/100\n",
            "100/100 [==============================] - 0s 4ms/step - loss: 0.3859 - accuracy: 0.8330 - val_loss: 0.3905 - val_accuracy: 0.8350\n",
            "Epoch 22/100\n",
            "100/100 [==============================] - 0s 4ms/step - loss: 0.3851 - accuracy: 0.8364 - val_loss: 0.3831 - val_accuracy: 0.8331\n",
            "Epoch 23/100\n",
            "100/100 [==============================] - 0s 4ms/step - loss: 0.3883 - accuracy: 0.8305 - val_loss: 0.3820 - val_accuracy: 0.8356\n",
            "Epoch 24/100\n",
            "100/100 [==============================] - 0s 4ms/step - loss: 0.3836 - accuracy: 0.8413 - val_loss: 0.3822 - val_accuracy: 0.8356\n",
            "Epoch 25/100\n",
            "100/100 [==============================] - 0s 3ms/step - loss: 0.3858 - accuracy: 0.8389 - val_loss: 0.3795 - val_accuracy: 0.8350\n",
            "Epoch 26/100\n",
            "100/100 [==============================] - 0s 2ms/step - loss: 0.3819 - accuracy: 0.8383 - val_loss: 0.3863 - val_accuracy: 0.8369\n",
            "Epoch 27/100\n",
            "100/100 [==============================] - 0s 3ms/step - loss: 0.3722 - accuracy: 0.8428 - val_loss: 0.3743 - val_accuracy: 0.8375\n",
            "Epoch 28/100\n",
            "100/100 [==============================] - 0s 3ms/step - loss: 0.3818 - accuracy: 0.8386 - val_loss: 0.3870 - val_accuracy: 0.8356\n",
            "Epoch 29/100\n",
            "100/100 [==============================] - 0s 3ms/step - loss: 0.3706 - accuracy: 0.8444 - val_loss: 0.3856 - val_accuracy: 0.8363\n",
            "Epoch 30/100\n",
            "100/100 [==============================] - 0s 3ms/step - loss: 0.3772 - accuracy: 0.8416 - val_loss: 0.3789 - val_accuracy: 0.8394\n",
            "Epoch 31/100\n",
            "100/100 [==============================] - 0s 3ms/step - loss: 0.3747 - accuracy: 0.8450 - val_loss: 0.3853 - val_accuracy: 0.8363\n",
            "Epoch 32/100\n",
            "100/100 [==============================] - 0s 2ms/step - loss: 0.3745 - accuracy: 0.8428 - val_loss: 0.3842 - val_accuracy: 0.8375\n",
            "Epoch 33/100\n",
            "100/100 [==============================] - 0s 2ms/step - loss: 0.3701 - accuracy: 0.8422 - val_loss: 0.3778 - val_accuracy: 0.8388\n",
            "Epoch 34/100\n",
            "100/100 [==============================] - 0s 3ms/step - loss: 0.3742 - accuracy: 0.8405 - val_loss: 0.3817 - val_accuracy: 0.8388\n",
            "Epoch 35/100\n",
            "100/100 [==============================] - 0s 3ms/step - loss: 0.3696 - accuracy: 0.8402 - val_loss: 0.3847 - val_accuracy: 0.8381\n",
            "Epoch 36/100\n",
            "100/100 [==============================] - 0s 3ms/step - loss: 0.3705 - accuracy: 0.8430 - val_loss: 0.3771 - val_accuracy: 0.8400\n",
            "Epoch 37/100\n",
            "100/100 [==============================] - 0s 3ms/step - loss: 0.3721 - accuracy: 0.8423 - val_loss: 0.3834 - val_accuracy: 0.8375\n",
            "Epoch 38/100\n",
            "100/100 [==============================] - 0s 3ms/step - loss: 0.3662 - accuracy: 0.8478 - val_loss: 0.3781 - val_accuracy: 0.8413\n",
            "Epoch 39/100\n",
            "100/100 [==============================] - 0s 3ms/step - loss: 0.3621 - accuracy: 0.8502 - val_loss: 0.3761 - val_accuracy: 0.8406\n",
            "Epoch 40/100\n",
            "100/100 [==============================] - 0s 3ms/step - loss: 0.3670 - accuracy: 0.8458 - val_loss: 0.3815 - val_accuracy: 0.8381\n",
            "Epoch 41/100\n",
            "100/100 [==============================] - 0s 3ms/step - loss: 0.3710 - accuracy: 0.8430 - val_loss: 0.3709 - val_accuracy: 0.8413\n",
            "Epoch 42/100\n",
            "100/100 [==============================] - 0s 3ms/step - loss: 0.3681 - accuracy: 0.8445 - val_loss: 0.3742 - val_accuracy: 0.8400\n",
            "Epoch 43/100\n",
            "100/100 [==============================] - 0s 3ms/step - loss: 0.3644 - accuracy: 0.8461 - val_loss: 0.3810 - val_accuracy: 0.8375\n",
            "Epoch 44/100\n",
            "100/100 [==============================] - 0s 3ms/step - loss: 0.3616 - accuracy: 0.8473 - val_loss: 0.3835 - val_accuracy: 0.8381\n",
            "Epoch 45/100\n",
            "100/100 [==============================] - 0s 3ms/step - loss: 0.3672 - accuracy: 0.8431 - val_loss: 0.3831 - val_accuracy: 0.8375\n",
            "Epoch 46/100\n",
            "100/100 [==============================] - 0s 3ms/step - loss: 0.3618 - accuracy: 0.8487 - val_loss: 0.3746 - val_accuracy: 0.8438\n",
            "Epoch 47/100\n",
            "100/100 [==============================] - 0s 3ms/step - loss: 0.3678 - accuracy: 0.8467 - val_loss: 0.3770 - val_accuracy: 0.8431\n",
            "Epoch 48/100\n",
            "100/100 [==============================] - 0s 2ms/step - loss: 0.3614 - accuracy: 0.8481 - val_loss: 0.3683 - val_accuracy: 0.8462\n",
            "Epoch 49/100\n",
            "100/100 [==============================] - 0s 2ms/step - loss: 0.3627 - accuracy: 0.8462 - val_loss: 0.3734 - val_accuracy: 0.8425\n",
            "Epoch 50/100\n",
            "100/100 [==============================] - 0s 3ms/step - loss: 0.3650 - accuracy: 0.8475 - val_loss: 0.3689 - val_accuracy: 0.8450\n",
            "Epoch 51/100\n",
            "100/100 [==============================] - 0s 2ms/step - loss: 0.3635 - accuracy: 0.8478 - val_loss: 0.3722 - val_accuracy: 0.8450\n",
            "Epoch 52/100\n",
            "100/100 [==============================] - 0s 3ms/step - loss: 0.3585 - accuracy: 0.8481 - val_loss: 0.3799 - val_accuracy: 0.8406\n",
            "Epoch 53/100\n",
            "100/100 [==============================] - 0s 3ms/step - loss: 0.3611 - accuracy: 0.8498 - val_loss: 0.3628 - val_accuracy: 0.8413\n",
            "Epoch 54/100\n",
            "100/100 [==============================] - 0s 3ms/step - loss: 0.3565 - accuracy: 0.8519 - val_loss: 0.3763 - val_accuracy: 0.8406\n",
            "Epoch 55/100\n",
            "100/100 [==============================] - 0s 3ms/step - loss: 0.3591 - accuracy: 0.8461 - val_loss: 0.3663 - val_accuracy: 0.8456\n",
            "Epoch 56/100\n",
            "100/100 [==============================] - 0s 2ms/step - loss: 0.3542 - accuracy: 0.8537 - val_loss: 0.3663 - val_accuracy: 0.8450\n",
            "Epoch 57/100\n",
            "100/100 [==============================] - 0s 3ms/step - loss: 0.3565 - accuracy: 0.8512 - val_loss: 0.3687 - val_accuracy: 0.8419\n",
            "Epoch 58/100\n",
            "100/100 [==============================] - 0s 3ms/step - loss: 0.3562 - accuracy: 0.8530 - val_loss: 0.3687 - val_accuracy: 0.8419\n",
            "Epoch 59/100\n",
            "100/100 [==============================] - 0s 3ms/step - loss: 0.3572 - accuracy: 0.8516 - val_loss: 0.3695 - val_accuracy: 0.8450\n",
            "Epoch 60/100\n",
            "100/100 [==============================] - 0s 2ms/step - loss: 0.3592 - accuracy: 0.8509 - val_loss: 0.3724 - val_accuracy: 0.8413\n",
            "Epoch 61/100\n",
            "100/100 [==============================] - 0s 3ms/step - loss: 0.3483 - accuracy: 0.8506 - val_loss: 0.3724 - val_accuracy: 0.8419\n",
            "Epoch 62/100\n",
            "100/100 [==============================] - 0s 4ms/step - loss: 0.3544 - accuracy: 0.8530 - val_loss: 0.3676 - val_accuracy: 0.8400\n",
            "Epoch 63/100\n",
            "100/100 [==============================] - 0s 3ms/step - loss: 0.3523 - accuracy: 0.8500 - val_loss: 0.3766 - val_accuracy: 0.8406\n",
            "Epoch 64/100\n",
            "100/100 [==============================] - 0s 3ms/step - loss: 0.3532 - accuracy: 0.8534 - val_loss: 0.3703 - val_accuracy: 0.8413\n",
            "Epoch 65/100\n",
            "100/100 [==============================] - 0s 3ms/step - loss: 0.3544 - accuracy: 0.8514 - val_loss: 0.3718 - val_accuracy: 0.8406\n",
            "Epoch 66/100\n",
            "100/100 [==============================] - 0s 3ms/step - loss: 0.3512 - accuracy: 0.8494 - val_loss: 0.3665 - val_accuracy: 0.8419\n",
            "Epoch 67/100\n",
            "100/100 [==============================] - 0s 4ms/step - loss: 0.3496 - accuracy: 0.8523 - val_loss: 0.3632 - val_accuracy: 0.8456\n",
            "Epoch 68/100\n",
            "100/100 [==============================] - 0s 3ms/step - loss: 0.3548 - accuracy: 0.8505 - val_loss: 0.3680 - val_accuracy: 0.8413\n",
            "Epoch 69/100\n",
            "100/100 [==============================] - 0s 4ms/step - loss: 0.3531 - accuracy: 0.8523 - val_loss: 0.3649 - val_accuracy: 0.8450\n",
            "Epoch 70/100\n",
            "100/100 [==============================] - 0s 4ms/step - loss: 0.3563 - accuracy: 0.8491 - val_loss: 0.3658 - val_accuracy: 0.8419\n",
            "Epoch 71/100\n",
            "100/100 [==============================] - 0s 3ms/step - loss: 0.3521 - accuracy: 0.8505 - val_loss: 0.3671 - val_accuracy: 0.8406\n",
            "Epoch 72/100\n",
            "100/100 [==============================] - 0s 2ms/step - loss: 0.3544 - accuracy: 0.8536 - val_loss: 0.3656 - val_accuracy: 0.8425\n",
            "Epoch 73/100\n",
            "100/100 [==============================] - 0s 3ms/step - loss: 0.3525 - accuracy: 0.8512 - val_loss: 0.3658 - val_accuracy: 0.8431\n",
            "Epoch 74/100\n",
            "100/100 [==============================] - 0s 3ms/step - loss: 0.3484 - accuracy: 0.8553 - val_loss: 0.3655 - val_accuracy: 0.8450\n",
            "Epoch 75/100\n",
            "100/100 [==============================] - 0s 2ms/step - loss: 0.3507 - accuracy: 0.8534 - val_loss: 0.3670 - val_accuracy: 0.8425\n",
            "Epoch 76/100\n",
            "100/100 [==============================] - 0s 2ms/step - loss: 0.3464 - accuracy: 0.8572 - val_loss: 0.3692 - val_accuracy: 0.8406\n",
            "Epoch 77/100\n",
            "100/100 [==============================] - 0s 3ms/step - loss: 0.3461 - accuracy: 0.8586 - val_loss: 0.3632 - val_accuracy: 0.8438\n",
            "Epoch 78/100\n",
            "100/100 [==============================] - 0s 3ms/step - loss: 0.3454 - accuracy: 0.8548 - val_loss: 0.3611 - val_accuracy: 0.8438\n",
            "Epoch 79/100\n",
            "100/100 [==============================] - 0s 2ms/step - loss: 0.3485 - accuracy: 0.8512 - val_loss: 0.3623 - val_accuracy: 0.8431\n",
            "Epoch 80/100\n",
            "100/100 [==============================] - 0s 3ms/step - loss: 0.3402 - accuracy: 0.8614 - val_loss: 0.3636 - val_accuracy: 0.8419\n",
            "Epoch 81/100\n",
            "100/100 [==============================] - 0s 3ms/step - loss: 0.3517 - accuracy: 0.8508 - val_loss: 0.3631 - val_accuracy: 0.8438\n",
            "Epoch 82/100\n",
            "100/100 [==============================] - 0s 2ms/step - loss: 0.3472 - accuracy: 0.8548 - val_loss: 0.3629 - val_accuracy: 0.8450\n",
            "Epoch 83/100\n",
            "100/100 [==============================] - 0s 2ms/step - loss: 0.3439 - accuracy: 0.8591 - val_loss: 0.3637 - val_accuracy: 0.8438\n",
            "Epoch 84/100\n",
            "100/100 [==============================] - 0s 3ms/step - loss: 0.3433 - accuracy: 0.8564 - val_loss: 0.3635 - val_accuracy: 0.8419\n",
            "Epoch 85/100\n",
            "100/100 [==============================] - 0s 3ms/step - loss: 0.3448 - accuracy: 0.8598 - val_loss: 0.3624 - val_accuracy: 0.8438\n",
            "Epoch 86/100\n",
            "100/100 [==============================] - 0s 3ms/step - loss: 0.3429 - accuracy: 0.8559 - val_loss: 0.3615 - val_accuracy: 0.8438\n",
            "Epoch 87/100\n",
            "100/100 [==============================] - 0s 2ms/step - loss: 0.3416 - accuracy: 0.8598 - val_loss: 0.3626 - val_accuracy: 0.8444\n",
            "Epoch 88/100\n",
            "100/100 [==============================] - 0s 3ms/step - loss: 0.3436 - accuracy: 0.8555 - val_loss: 0.3636 - val_accuracy: 0.8444\n",
            "Epoch 89/100\n",
            "100/100 [==============================] - 0s 2ms/step - loss: 0.3455 - accuracy: 0.8542 - val_loss: 0.3607 - val_accuracy: 0.8444\n",
            "Epoch 90/100\n",
            "100/100 [==============================] - 0s 2ms/step - loss: 0.3446 - accuracy: 0.8525 - val_loss: 0.3567 - val_accuracy: 0.8431\n",
            "Epoch 91/100\n",
            "100/100 [==============================] - 0s 3ms/step - loss: 0.3442 - accuracy: 0.8583 - val_loss: 0.3591 - val_accuracy: 0.8431\n",
            "Epoch 92/100\n",
            "100/100 [==============================] - 0s 3ms/step - loss: 0.3438 - accuracy: 0.8581 - val_loss: 0.3609 - val_accuracy: 0.8431\n",
            "Epoch 93/100\n",
            "100/100 [==============================] - 0s 3ms/step - loss: 0.3397 - accuracy: 0.8600 - val_loss: 0.3569 - val_accuracy: 0.8450\n",
            "Epoch 94/100\n",
            "100/100 [==============================] - 0s 3ms/step - loss: 0.3451 - accuracy: 0.8614 - val_loss: 0.3592 - val_accuracy: 0.8413\n",
            "Epoch 95/100\n",
            "100/100 [==============================] - 0s 3ms/step - loss: 0.3390 - accuracy: 0.8594 - val_loss: 0.3624 - val_accuracy: 0.8438\n",
            "Epoch 96/100\n",
            "100/100 [==============================] - 0s 3ms/step - loss: 0.3384 - accuracy: 0.8614 - val_loss: 0.3609 - val_accuracy: 0.8438\n",
            "Epoch 97/100\n",
            "100/100 [==============================] - 0s 3ms/step - loss: 0.3387 - accuracy: 0.8586 - val_loss: 0.3577 - val_accuracy: 0.8431\n",
            "Epoch 98/100\n",
            "100/100 [==============================] - 0s 3ms/step - loss: 0.3355 - accuracy: 0.8647 - val_loss: 0.3587 - val_accuracy: 0.8431\n",
            "Epoch 99/100\n",
            "100/100 [==============================] - 0s 3ms/step - loss: 0.3431 - accuracy: 0.8570 - val_loss: 0.3603 - val_accuracy: 0.8444\n",
            "Epoch 100/100\n",
            "100/100 [==============================] - 0s 3ms/step - loss: 0.3418 - accuracy: 0.8570 - val_loss: 0.3599 - val_accuracy: 0.8425\n"
          ]
        }
      ]
    },
    {
      "cell_type": "code",
      "source": [
        "plt.plot(history.history['accuracy'])\n",
        "plt.plot(history.history['val_accuracy'])\n",
        "plt.title('Accuracy vs Epochs')\n",
        "plt.ylabel('Accuracy')\n",
        "plt.xlabel('Epoch')\n",
        "plt.legend(['Train', 'Validation'], loc='lower right')\n",
        "plt.show()"
      ],
      "metadata": {
        "colab": {
          "base_uri": "https://localhost:8080/",
          "height": 295
        },
        "id": "u9c3SON29G29",
        "outputId": "29cbeec9-6b29-4481-eefc-3925d16025df"
      },
      "execution_count": null,
      "outputs": [
        {
          "output_type": "display_data",
          "data": {
            "text/plain": [
              "<Figure size 432x288 with 1 Axes>"
            ],
            "image/png": "[encoded data removed]"
          },
          "metadata": {
            "needs_background": "light"
          }
        }
      ]
    },
    {
      "cell_type": "markdown",
      "source": [
        "Adding dropout layers and using batch normalization greatly reduced the difference between training accuracy and validation accuracy. On the other hand, it reduced the overall training accuracy as well from around 95 to around 85. I will explore further and see if I can increase both validation accuracy and training accuracy without increasing the difference between them."
      ],
      "metadata": {
        "id": "GHzrZmEq-K48"
      }
    },
    {
      "cell_type": "code",
      "source": [
        "model3.evaluate(X_test, y_test, verbose = 1)\n",
        "test_pred3 = np.round(model3.predict(X_test))"
      ],
      "metadata": {
        "colab": {
          "base_uri": "https://localhost:8080/"
        },
        "id": "Fl9BtS9HZ08w",
        "outputId": "5a3d3522-4300-46b8-c4bf-f3ecd69bedc2"
      },
      "execution_count": null,
      "outputs": [
        {
          "output_type": "stream",
          "name": "stdout",
          "text": [
            "63/63 [==============================] - 0s 1ms/step - loss: 0.3568 - accuracy: 0.8570\n",
            "63/63 [==============================] - 0s 1ms/step\n"
          ]
        }
      ]
    },
    {
      "cell_type": "code",
      "source": [
        "from sklearn.metrics import classification_report\n",
        "from sklearn.metrics import confusion_matrix\n",
        "\n",
        "print(classification_report(y_test, test_pred3))\n",
        "cm = confusion_matrix(y_test, test_pred3)\n",
        "plt.figure(figsize=(8,5))\n",
        "sns.heatmap(cm, annot=True,  fmt='.0f',xticklabels=['Not Exited', 'Exited'], yticklabels=['Not Exited', 'Exited'])\n",
        "plt.ylabel('Actual')\n",
        "plt.xlabel('Predicted')\n",
        "plt.show()"
      ],
      "metadata": {
        "colab": {
          "base_uri": "https://localhost:8080/",
          "height": 495
        },
        "id": "Gf-Bi6uDZ-x9",
        "outputId": "440b6911-0355-4b34-8043-52c0c12c33e0"
      },
      "execution_count": null,
      "outputs": [
        {
          "output_type": "stream",
          "name": "stdout",
          "text": [
            "              precision    recall  f1-score   support\n",
            "\n",
            "           0       0.86      0.98      0.92      1593\n",
            "           1       0.84      0.37      0.51       407\n",
            "\n",
            "    accuracy                           0.86      2000\n",
            "   macro avg       0.85      0.68      0.71      2000\n",
            "weighted avg       0.85      0.86      0.83      2000\n",
            "\n"
          ]
        },
        {
          "output_type": "display_data",
          "data": {
            "text/plain": [
              "<Figure size 576x360 with 2 Axes>"
            ],
            "image/png": "[encoded data removed]"
          },
          "metadata": {
            "needs_background": "light"
          }
        }
      ]
    },
    {
      "cell_type": "markdown",
      "source": [
        "##Model 4##"
      ],
      "metadata": {
        "id": "wHjuHXlO-qyl"
      }
    },
    {
      "cell_type": "code",
      "source": [
        "# I will clear the backend\n",
        "from tensorflow.keras import backend\n",
        "backend.clear_session()"
      ],
      "metadata": {
        "id": "t33vF0Ze-IAm"
      },
      "execution_count": null,
      "outputs": []
    },
    {
      "cell_type": "code",
      "source": [
        "# Using random seed again\n",
        "\n",
        "np.random.seed(42)\n",
        "\n",
        "import random\n",
        "random.seed(42)\n",
        "\n",
        "tensorflow.random.set_seed(42)"
      ],
      "metadata": {
        "id": "jElNE2pi-ucX"
      },
      "execution_count": null,
      "outputs": []
    },
    {
      "cell_type": "code",
      "source": [
        "# Initializing the model\n",
        "model4 = Sequential()\n",
        "model4.add(Dense(64, activation='relu', kernel_initializer='he_normal', input_shape=(11,)))\n",
        "model4.add(Dropout(0.6))\n",
        "model4.add(Dense(32, activation='relu',kernel_initializer='he_normal'))\n",
        "model4.add(Dropout(0.6))\n",
        "model4.add(Dense(1, activation='sigmoid'))"
      ],
      "metadata": {
        "id": "0omPXaxa-xLF"
      },
      "execution_count": null,
      "outputs": []
    },
    {
      "cell_type": "code",
      "source": [
        "rms = optimizers.RMSprop(learning_rate=1e-3)\n",
        "model4.compile(loss=losses.binary_crossentropy, optimizer=rms, metrics=['accuracy'])"
      ],
      "metadata": {
        "id": "cur5b1iH-7W9"
      },
      "execution_count": null,
      "outputs": []
    },
    {
      "cell_type": "code",
      "source": [
        "history = model4.fit(X_train, y_train, validation_data=(X_val, y_val), epochs=100, batch_size=64)"
      ],
      "metadata": {
        "colab": {
          "base_uri": "https://localhost:8080/"
        },
        "id": "5XxyWYF1-_iS",
        "outputId": "fa14f0ca-762c-4f09-a5ed-fd3f6c2f02ed"
      },
      "execution_count": null,
      "outputs": [
        {
          "output_type": "stream",
          "name": "stdout",
          "text": [
            "Epoch 1/100\n",
            "100/100 [==============================] - 1s 4ms/step - loss: 0.7651 - accuracy: 0.6997 - val_loss: 0.4764 - val_accuracy: 0.7969\n",
            "Epoch 2/100\n",
            "100/100 [==============================] - 0s 3ms/step - loss: 0.5879 - accuracy: 0.7548 - val_loss: 0.4706 - val_accuracy: 0.7969\n",
            "Epoch 3/100\n",
            "100/100 [==============================] - 0s 3ms/step - loss: 0.5348 - accuracy: 0.7775 - val_loss: 0.4644 - val_accuracy: 0.7969\n",
            "Epoch 4/100\n",
            "100/100 [==============================] - 0s 3ms/step - loss: 0.5042 - accuracy: 0.7898 - val_loss: 0.4551 - val_accuracy: 0.7962\n",
            "Epoch 5/100\n",
            "100/100 [==============================] - 0s 3ms/step - loss: 0.4936 - accuracy: 0.7952 - val_loss: 0.4509 - val_accuracy: 0.7962\n",
            "Epoch 6/100\n",
            "100/100 [==============================] - 0s 2ms/step - loss: 0.4825 - accuracy: 0.7994 - val_loss: 0.4468 - val_accuracy: 0.7981\n",
            "Epoch 7/100\n",
            "100/100 [==============================] - 0s 2ms/step - loss: 0.4773 - accuracy: 0.7981 - val_loss: 0.4428 - val_accuracy: 0.7981\n",
            "Epoch 8/100\n",
            "100/100 [==============================] - 0s 3ms/step - loss: 0.4635 - accuracy: 0.8012 - val_loss: 0.4358 - val_accuracy: 0.7994\n",
            "Epoch 9/100\n",
            "100/100 [==============================] - 0s 3ms/step - loss: 0.4647 - accuracy: 0.8056 - val_loss: 0.4320 - val_accuracy: 0.8044\n",
            "Epoch 10/100\n",
            "100/100 [==============================] - 0s 3ms/step - loss: 0.4585 - accuracy: 0.8011 - val_loss: 0.4317 - val_accuracy: 0.8037\n",
            "Epoch 11/100\n",
            "100/100 [==============================] - 0s 3ms/step - loss: 0.4539 - accuracy: 0.8012 - val_loss: 0.4279 - val_accuracy: 0.8050\n",
            "Epoch 12/100\n",
            "100/100 [==============================] - 0s 2ms/step - loss: 0.4533 - accuracy: 0.8039 - val_loss: 0.4271 - val_accuracy: 0.8044\n",
            "Epoch 13/100\n",
            "100/100 [==============================] - 0s 3ms/step - loss: 0.4516 - accuracy: 0.8003 - val_loss: 0.4250 - val_accuracy: 0.8050\n",
            "Epoch 14/100\n",
            "100/100 [==============================] - 0s 2ms/step - loss: 0.4490 - accuracy: 0.8061 - val_loss: 0.4239 - val_accuracy: 0.8031\n",
            "Epoch 15/100\n",
            "100/100 [==============================] - 0s 2ms/step - loss: 0.4486 - accuracy: 0.8050 - val_loss: 0.4228 - val_accuracy: 0.8037\n",
            "Epoch 16/100\n",
            "100/100 [==============================] - 0s 2ms/step - loss: 0.4486 - accuracy: 0.8094 - val_loss: 0.4208 - val_accuracy: 0.8044\n",
            "Epoch 17/100\n",
            "100/100 [==============================] - 0s 2ms/step - loss: 0.4398 - accuracy: 0.8106 - val_loss: 0.4183 - val_accuracy: 0.8094\n",
            "Epoch 18/100\n",
            "100/100 [==============================] - 0s 2ms/step - loss: 0.4407 - accuracy: 0.8117 - val_loss: 0.4171 - val_accuracy: 0.8100\n",
            "Epoch 19/100\n",
            "100/100 [==============================] - 0s 2ms/step - loss: 0.4391 - accuracy: 0.8100 - val_loss: 0.4154 - val_accuracy: 0.8094\n",
            "Epoch 20/100\n",
            "100/100 [==============================] - 0s 2ms/step - loss: 0.4338 - accuracy: 0.8127 - val_loss: 0.4140 - val_accuracy: 0.8112\n",
            "Epoch 21/100\n",
            "100/100 [==============================] - 0s 2ms/step - loss: 0.4369 - accuracy: 0.8119 - val_loss: 0.4142 - val_accuracy: 0.8112\n",
            "Epoch 22/100\n",
            "100/100 [==============================] - 0s 2ms/step - loss: 0.4306 - accuracy: 0.8102 - val_loss: 0.4117 - val_accuracy: 0.8125\n",
            "Epoch 23/100\n",
            "100/100 [==============================] - 0s 2ms/step - loss: 0.4297 - accuracy: 0.8184 - val_loss: 0.4120 - val_accuracy: 0.8125\n",
            "Epoch 24/100\n",
            "100/100 [==============================] - 0s 2ms/step - loss: 0.4355 - accuracy: 0.8183 - val_loss: 0.4096 - val_accuracy: 0.8150\n",
            "Epoch 25/100\n",
            "100/100 [==============================] - 0s 2ms/step - loss: 0.4308 - accuracy: 0.8125 - val_loss: 0.4076 - val_accuracy: 0.8175\n",
            "Epoch 26/100\n",
            "100/100 [==============================] - 0s 2ms/step - loss: 0.4256 - accuracy: 0.8164 - val_loss: 0.4073 - val_accuracy: 0.8181\n",
            "Epoch 27/100\n",
            "100/100 [==============================] - 0s 2ms/step - loss: 0.4238 - accuracy: 0.8191 - val_loss: 0.4044 - val_accuracy: 0.8200\n",
            "Epoch 28/100\n",
            "100/100 [==============================] - 0s 2ms/step - loss: 0.4220 - accuracy: 0.8164 - val_loss: 0.4047 - val_accuracy: 0.8194\n",
            "Epoch 29/100\n",
            "100/100 [==============================] - 0s 2ms/step - loss: 0.4226 - accuracy: 0.8259 - val_loss: 0.4040 - val_accuracy: 0.8219\n",
            "Epoch 30/100\n",
            "100/100 [==============================] - 0s 2ms/step - loss: 0.4217 - accuracy: 0.8239 - val_loss: 0.4017 - val_accuracy: 0.8231\n",
            "Epoch 31/100\n",
            "100/100 [==============================] - 0s 2ms/step - loss: 0.4189 - accuracy: 0.8234 - val_loss: 0.4035 - val_accuracy: 0.8206\n",
            "Epoch 32/100\n",
            "100/100 [==============================] - 0s 2ms/step - loss: 0.4212 - accuracy: 0.8272 - val_loss: 0.4009 - val_accuracy: 0.8263\n",
            "Epoch 33/100\n",
            "100/100 [==============================] - 0s 2ms/step - loss: 0.4187 - accuracy: 0.8266 - val_loss: 0.3989 - val_accuracy: 0.8300\n",
            "Epoch 34/100\n",
            "100/100 [==============================] - 0s 2ms/step - loss: 0.4118 - accuracy: 0.8263 - val_loss: 0.3980 - val_accuracy: 0.8319\n",
            "Epoch 35/100\n",
            "100/100 [==============================] - 0s 2ms/step - loss: 0.4105 - accuracy: 0.8256 - val_loss: 0.3963 - val_accuracy: 0.8306\n",
            "Epoch 36/100\n",
            "100/100 [==============================] - 0s 2ms/step - loss: 0.4149 - accuracy: 0.8245 - val_loss: 0.3957 - val_accuracy: 0.8294\n",
            "Epoch 37/100\n",
            "100/100 [==============================] - 0s 2ms/step - loss: 0.4119 - accuracy: 0.8289 - val_loss: 0.3942 - val_accuracy: 0.8313\n",
            "Epoch 38/100\n",
            "100/100 [==============================] - 0s 2ms/step - loss: 0.4136 - accuracy: 0.8258 - val_loss: 0.3941 - val_accuracy: 0.8350\n",
            "Epoch 39/100\n",
            "100/100 [==============================] - 0s 2ms/step - loss: 0.4079 - accuracy: 0.8294 - val_loss: 0.3924 - val_accuracy: 0.8338\n",
            "Epoch 40/100\n",
            "100/100 [==============================] - 0s 2ms/step - loss: 0.4113 - accuracy: 0.8267 - val_loss: 0.3914 - val_accuracy: 0.8338\n",
            "Epoch 41/100\n",
            "100/100 [==============================] - 0s 2ms/step - loss: 0.4106 - accuracy: 0.8272 - val_loss: 0.3905 - val_accuracy: 0.8338\n",
            "Epoch 42/100\n",
            "100/100 [==============================] - 0s 2ms/step - loss: 0.4084 - accuracy: 0.8275 - val_loss: 0.3897 - val_accuracy: 0.8338\n",
            "Epoch 43/100\n",
            "100/100 [==============================] - 0s 2ms/step - loss: 0.4015 - accuracy: 0.8347 - val_loss: 0.3882 - val_accuracy: 0.8363\n",
            "Epoch 44/100\n",
            "100/100 [==============================] - 0s 2ms/step - loss: 0.4026 - accuracy: 0.8323 - val_loss: 0.3882 - val_accuracy: 0.8356\n",
            "Epoch 45/100\n",
            "100/100 [==============================] - 0s 2ms/step - loss: 0.4021 - accuracy: 0.8317 - val_loss: 0.3889 - val_accuracy: 0.8369\n",
            "Epoch 46/100\n",
            "100/100 [==============================] - 0s 2ms/step - loss: 0.4034 - accuracy: 0.8327 - val_loss: 0.3859 - val_accuracy: 0.8388\n",
            "Epoch 47/100\n",
            "100/100 [==============================] - 0s 2ms/step - loss: 0.4048 - accuracy: 0.8305 - val_loss: 0.3853 - val_accuracy: 0.8388\n",
            "Epoch 48/100\n",
            "100/100 [==============================] - 0s 2ms/step - loss: 0.4025 - accuracy: 0.8345 - val_loss: 0.3825 - val_accuracy: 0.8406\n",
            "Epoch 49/100\n",
            "100/100 [==============================] - 0s 2ms/step - loss: 0.3981 - accuracy: 0.8323 - val_loss: 0.3829 - val_accuracy: 0.8388\n",
            "Epoch 50/100\n",
            "100/100 [==============================] - 0s 2ms/step - loss: 0.3959 - accuracy: 0.8391 - val_loss: 0.3818 - val_accuracy: 0.8406\n",
            "Epoch 51/100\n",
            "100/100 [==============================] - 0s 2ms/step - loss: 0.3984 - accuracy: 0.8336 - val_loss: 0.3810 - val_accuracy: 0.8381\n",
            "Epoch 52/100\n",
            "100/100 [==============================] - 0s 2ms/step - loss: 0.3941 - accuracy: 0.8359 - val_loss: 0.3795 - val_accuracy: 0.8394\n",
            "Epoch 53/100\n",
            "100/100 [==============================] - 0s 2ms/step - loss: 0.3993 - accuracy: 0.8352 - val_loss: 0.3790 - val_accuracy: 0.8400\n",
            "Epoch 54/100\n",
            "100/100 [==============================] - 0s 3ms/step - loss: 0.3967 - accuracy: 0.8372 - val_loss: 0.3784 - val_accuracy: 0.8413\n",
            "Epoch 55/100\n",
            "100/100 [==============================] - 0s 2ms/step - loss: 0.3960 - accuracy: 0.8345 - val_loss: 0.3791 - val_accuracy: 0.8413\n",
            "Epoch 56/100\n",
            "100/100 [==============================] - 0s 2ms/step - loss: 0.3897 - accuracy: 0.8391 - val_loss: 0.3775 - val_accuracy: 0.8413\n",
            "Epoch 57/100\n",
            "100/100 [==============================] - 0s 2ms/step - loss: 0.3891 - accuracy: 0.8419 - val_loss: 0.3757 - val_accuracy: 0.8450\n",
            "Epoch 58/100\n",
            "100/100 [==============================] - 0s 3ms/step - loss: 0.3971 - accuracy: 0.8353 - val_loss: 0.3762 - val_accuracy: 0.8425\n",
            "Epoch 59/100\n",
            "100/100 [==============================] - 0s 3ms/step - loss: 0.3914 - accuracy: 0.8381 - val_loss: 0.3757 - val_accuracy: 0.8425\n",
            "Epoch 60/100\n",
            "100/100 [==============================] - 0s 3ms/step - loss: 0.3942 - accuracy: 0.8384 - val_loss: 0.3756 - val_accuracy: 0.8444\n",
            "Epoch 61/100\n",
            "100/100 [==============================] - 0s 2ms/step - loss: 0.3872 - accuracy: 0.8427 - val_loss: 0.3765 - val_accuracy: 0.8425\n",
            "Epoch 62/100\n",
            "100/100 [==============================] - 0s 3ms/step - loss: 0.3914 - accuracy: 0.8375 - val_loss: 0.3735 - val_accuracy: 0.8456\n",
            "Epoch 63/100\n",
            "100/100 [==============================] - 0s 3ms/step - loss: 0.3920 - accuracy: 0.8348 - val_loss: 0.3736 - val_accuracy: 0.8450\n",
            "Epoch 64/100\n",
            "100/100 [==============================] - 0s 3ms/step - loss: 0.3955 - accuracy: 0.8386 - val_loss: 0.3741 - val_accuracy: 0.8450\n",
            "Epoch 65/100\n",
            "100/100 [==============================] - 0s 3ms/step - loss: 0.3868 - accuracy: 0.8428 - val_loss: 0.3739 - val_accuracy: 0.8450\n",
            "Epoch 66/100\n",
            "100/100 [==============================] - 0s 3ms/step - loss: 0.3856 - accuracy: 0.8425 - val_loss: 0.3730 - val_accuracy: 0.8438\n",
            "Epoch 67/100\n",
            "100/100 [==============================] - 0s 2ms/step - loss: 0.3884 - accuracy: 0.8436 - val_loss: 0.3714 - val_accuracy: 0.8450\n",
            "Epoch 68/100\n",
            "100/100 [==============================] - 0s 2ms/step - loss: 0.3921 - accuracy: 0.8414 - val_loss: 0.3714 - val_accuracy: 0.8456\n",
            "Epoch 69/100\n",
            "100/100 [==============================] - 0s 2ms/step - loss: 0.3862 - accuracy: 0.8430 - val_loss: 0.3705 - val_accuracy: 0.8456\n",
            "Epoch 70/100\n",
            "100/100 [==============================] - 0s 2ms/step - loss: 0.3892 - accuracy: 0.8431 - val_loss: 0.3713 - val_accuracy: 0.8456\n",
            "Epoch 71/100\n",
            "100/100 [==============================] - 0s 2ms/step - loss: 0.3898 - accuracy: 0.8391 - val_loss: 0.3700 - val_accuracy: 0.8462\n",
            "Epoch 72/100\n",
            "100/100 [==============================] - 0s 2ms/step - loss: 0.3841 - accuracy: 0.8455 - val_loss: 0.3695 - val_accuracy: 0.8462\n",
            "Epoch 73/100\n",
            "100/100 [==============================] - 0s 2ms/step - loss: 0.3843 - accuracy: 0.8400 - val_loss: 0.3715 - val_accuracy: 0.8469\n",
            "Epoch 74/100\n",
            "100/100 [==============================] - 0s 2ms/step - loss: 0.3853 - accuracy: 0.8414 - val_loss: 0.3700 - val_accuracy: 0.8475\n",
            "Epoch 75/100\n",
            "100/100 [==============================] - 0s 2ms/step - loss: 0.3885 - accuracy: 0.8375 - val_loss: 0.3708 - val_accuracy: 0.8475\n",
            "Epoch 76/100\n",
            "100/100 [==============================] - 0s 2ms/step - loss: 0.3892 - accuracy: 0.8427 - val_loss: 0.3702 - val_accuracy: 0.8475\n",
            "Epoch 77/100\n",
            "100/100 [==============================] - 0s 2ms/step - loss: 0.3835 - accuracy: 0.8441 - val_loss: 0.3679 - val_accuracy: 0.8475\n",
            "Epoch 78/100\n",
            "100/100 [==============================] - 0s 2ms/step - loss: 0.3853 - accuracy: 0.8452 - val_loss: 0.3673 - val_accuracy: 0.8462\n",
            "Epoch 79/100\n",
            "100/100 [==============================] - 0s 2ms/step - loss: 0.3828 - accuracy: 0.8453 - val_loss: 0.3664 - val_accuracy: 0.8475\n",
            "Epoch 80/100\n",
            "100/100 [==============================] - 0s 2ms/step - loss: 0.3864 - accuracy: 0.8442 - val_loss: 0.3665 - val_accuracy: 0.8475\n",
            "Epoch 81/100\n",
            "100/100 [==============================] - 0s 3ms/step - loss: 0.3831 - accuracy: 0.8472 - val_loss: 0.3668 - val_accuracy: 0.8475\n",
            "Epoch 82/100\n",
            "100/100 [==============================] - 0s 2ms/step - loss: 0.3754 - accuracy: 0.8452 - val_loss: 0.3659 - val_accuracy: 0.8494\n",
            "Epoch 83/100\n",
            "100/100 [==============================] - 0s 2ms/step - loss: 0.3850 - accuracy: 0.8466 - val_loss: 0.3664 - val_accuracy: 0.8481\n",
            "Epoch 84/100\n",
            "100/100 [==============================] - 0s 2ms/step - loss: 0.3821 - accuracy: 0.8472 - val_loss: 0.3664 - val_accuracy: 0.8487\n",
            "Epoch 85/100\n",
            "100/100 [==============================] - 0s 2ms/step - loss: 0.3802 - accuracy: 0.8461 - val_loss: 0.3666 - val_accuracy: 0.8494\n",
            "Epoch 86/100\n",
            "100/100 [==============================] - 0s 2ms/step - loss: 0.3811 - accuracy: 0.8434 - val_loss: 0.3658 - val_accuracy: 0.8487\n",
            "Epoch 87/100\n",
            "100/100 [==============================] - 0s 2ms/step - loss: 0.3762 - accuracy: 0.8487 - val_loss: 0.3660 - val_accuracy: 0.8494\n",
            "Epoch 88/100\n",
            "100/100 [==============================] - 0s 2ms/step - loss: 0.3789 - accuracy: 0.8502 - val_loss: 0.3658 - val_accuracy: 0.8487\n",
            "Epoch 89/100\n",
            "100/100 [==============================] - 0s 2ms/step - loss: 0.3808 - accuracy: 0.8484 - val_loss: 0.3661 - val_accuracy: 0.8481\n",
            "Epoch 90/100\n",
            "100/100 [==============================] - 0s 2ms/step - loss: 0.3776 - accuracy: 0.8470 - val_loss: 0.3650 - val_accuracy: 0.8494\n",
            "Epoch 91/100\n",
            "100/100 [==============================] - 0s 2ms/step - loss: 0.3752 - accuracy: 0.8491 - val_loss: 0.3650 - val_accuracy: 0.8494\n",
            "Epoch 92/100\n",
            "100/100 [==============================] - 0s 2ms/step - loss: 0.3765 - accuracy: 0.8472 - val_loss: 0.3650 - val_accuracy: 0.8481\n",
            "Epoch 93/100\n",
            "100/100 [==============================] - 0s 2ms/step - loss: 0.3752 - accuracy: 0.8461 - val_loss: 0.3652 - val_accuracy: 0.8494\n",
            "Epoch 94/100\n",
            "100/100 [==============================] - 0s 2ms/step - loss: 0.3744 - accuracy: 0.8523 - val_loss: 0.3652 - val_accuracy: 0.8500\n",
            "Epoch 95/100\n",
            "100/100 [==============================] - 0s 2ms/step - loss: 0.3706 - accuracy: 0.8480 - val_loss: 0.3656 - val_accuracy: 0.8487\n",
            "Epoch 96/100\n",
            "100/100 [==============================] - 0s 2ms/step - loss: 0.3726 - accuracy: 0.8517 - val_loss: 0.3645 - val_accuracy: 0.8487\n",
            "Epoch 97/100\n",
            "100/100 [==============================] - 0s 2ms/step - loss: 0.3751 - accuracy: 0.8475 - val_loss: 0.3648 - val_accuracy: 0.8494\n",
            "Epoch 98/100\n",
            "100/100 [==============================] - 0s 2ms/step - loss: 0.3790 - accuracy: 0.8481 - val_loss: 0.3643 - val_accuracy: 0.8487\n",
            "Epoch 99/100\n",
            "100/100 [==============================] - 0s 2ms/step - loss: 0.3791 - accuracy: 0.8477 - val_loss: 0.3637 - val_accuracy: 0.8475\n",
            "Epoch 100/100\n",
            "100/100 [==============================] - 0s 2ms/step - loss: 0.3715 - accuracy: 0.8481 - val_loss: 0.3639 - val_accuracy: 0.8475\n"
          ]
        }
      ]
    },
    {
      "cell_type": "code",
      "source": [
        "plt.plot(history.history['accuracy'])\n",
        "plt.plot(history.history['val_accuracy'])\n",
        "plt.title('Accuracy vs Epochs')\n",
        "plt.ylabel('Accuracy')\n",
        "plt.xlabel('Epoch')\n",
        "plt.legend(['Train', 'Validation'], loc='lower right')\n",
        "plt.show()"
      ],
      "metadata": {
        "colab": {
          "base_uri": "https://localhost:8080/",
          "height": 295
        },
        "id": "wBi-0sNE_Qff",
        "outputId": "2afab415-3865-4312-ba43-ca35d3df1322"
      },
      "execution_count": null,
      "outputs": [
        {
          "output_type": "display_data",
          "data": {
            "text/plain": [
              "<Figure size 432x288 with 1 Axes>"
            ],
            "image/png": "[encoded data removed]"
          },
          "metadata": {
            "needs_background": "light"
          }
        }
      ]
    },
    {
      "cell_type": "markdown",
      "source": [
        "We could not increase validation accuracy in any of the four models, which can result from sample imbalance between the two categories of target variable, and that imbalance becomes even more significant in validation set which is smaller in size compared to training data.\n",
        "\n",
        "On the other hand, the difference between training accuracy and validation accuracy became almost zero, meaning that overfitting problem has been solved. Among the four models, this seems the best one in terms of performance, so we will check the performance on test data."
      ],
      "metadata": {
        "id": "aq0py1jkA2dc"
      }
    },
    {
      "cell_type": "markdown",
      "source": [
        "##Model evaluation on test data##"
      ],
      "metadata": {
        "id": "uv7C8uGKHWkS"
      }
    },
    {
      "cell_type": "code",
      "source": [
        "model4.evaluate(X_test, y_test, verbose = 1)\n",
        "test_pred4 = np.round(model4.predict(X_test))"
      ],
      "metadata": {
        "colab": {
          "base_uri": "https://localhost:8080/"
        },
        "id": "mN3x9xScAljD",
        "outputId": "29c95999-0477-4d8b-ee08-5c4bbd2c891e"
      },
      "execution_count": null,
      "outputs": [
        {
          "output_type": "stream",
          "name": "stdout",
          "text": [
            "63/63 [==============================] - 0s 1ms/step - loss: 0.3558 - accuracy: 0.8565\n",
            "63/63 [==============================] - 0s 1ms/step\n"
          ]
        }
      ]
    },
    {
      "cell_type": "markdown",
      "source": [
        "The test accuracy is revealed to be 85.95% which is very close to our training accuracy and validation accuracy. It implies that our model is able to replicate the performance from the train and validation data on real world (test set)."
      ],
      "metadata": {
        "id": "ip9uEkvdIbE4"
      }
    },
    {
      "cell_type": "code",
      "source": [
        "from sklearn.metrics import classification_report\n",
        "from sklearn.metrics import confusion_matrix\n",
        "\n",
        "print(classification_report(y_test, test_pred4))\n",
        "cm = confusion_matrix(y_test, test_pred4)\n",
        "plt.figure(figsize=(8,5))\n",
        "sns.heatmap(cm, annot=True,  fmt='.0f',xticklabels=['Not Exited', 'Exited'], yticklabels=['Not Exited', 'Exited'])\n",
        "plt.ylabel('Actual')\n",
        "plt.xlabel('Predicted')\n",
        "plt.show()"
      ],
      "metadata": {
        "colab": {
          "base_uri": "https://localhost:8080/",
          "height": 495
        },
        "id": "JVens3wrIP-P",
        "outputId": "79f510fc-af99-4fb9-b9c6-5fe66cda7eab"
      },
      "execution_count": null,
      "outputs": [
        {
          "output_type": "stream",
          "name": "stdout",
          "text": [
            "              precision    recall  f1-score   support\n",
            "\n",
            "           0       0.86      0.98      0.92      1593\n",
            "           1       0.80      0.39      0.53       407\n",
            "\n",
            "    accuracy                           0.86      2000\n",
            "   macro avg       0.83      0.68      0.72      2000\n",
            "weighted avg       0.85      0.86      0.84      2000\n",
            "\n"
          ]
        },
        {
          "output_type": "display_data",
          "data": {
            "text/plain": [
              "<Figure size 576x360 with 2 Axes>"
            ],
            "image/png": "[encoded data removed]"
          },
          "metadata": {
            "needs_background": "light"
          }
        }
      ]
    },
    {
      "cell_type": "code",
      "source": [
        "import seaborn as sn\n",
        "y_pred1 = model4.predict(X_test)\n",
        "for i in range(len(y_test)):\n",
        "    if y_pred1[i]>0.5:\n",
        "        y_pred1[i]=1 \n",
        "    else:\n",
        "        y_pred1[i]=0\n",
        "\n",
        "\n",
        "\n",
        "cm2=confusion_matrix(y_test, y_pred1)\n",
        "labels = ['True Negative','False Positive','False Negative','True Positive']\n",
        "#categories = [ 'Not_Fraud','Fraud']\n",
        "make_confusion_matrix(cm2, \n",
        "                      group_names=labels,\n",
        "                      #categories=categories, \n",
        "                      cmap='Blues')"
      ],
      "metadata": {
        "colab": {
          "base_uri": "https://localhost:8080/",
          "height": 355
        },
        "id": "eY98KI6fI33f",
        "outputId": "ca2856b9-64fa-466d-d839-9b8f65d56e3b"
      },
      "execution_count": null,
      "outputs": [
        {
          "output_type": "stream",
          "name": "stdout",
          "text": [
            "63/63 [==============================] - 0s 983us/step\n"
          ]
        },
        {
          "output_type": "display_data",
          "data": {
            "text/plain": [
              "<Figure size 432x288 with 2 Axes>"
            ],
            "image/png": "[encoded data removed]"
          },
          "metadata": {
            "needs_background": "light"
          }
        }
      ]
    },
    {
      "cell_type": "markdown",
      "source": [
        "**Overall Comment:** Although we succeeded in solving the overfitting problem, none of the models provided a good recall score in class 1. That can be due to high imbalance between the sample size of different categories of training set as well as validation set."
      ],
      "metadata": {
        "id": "CMKBGe08ciUa"
      }
    },
    {
      "cell_type": "markdown",
      "source": [
        "#Business Insights and Recommendations#"
      ],
      "metadata": {
        "id": "I3_7ZLTFdGV4"
      }
    },
    {
      "cell_type": "markdown",
      "source": [
        "\n",
        "\n",
        "*  There is a correlation between customer age and exiting behavior. Higher the customer age, higher the probability of exiting is. Therefore, the bank should discuss the potential reasons of why older customers have more chance to exit the bank. Could there be an age related factor that would cause their exit? Maybe, new services that require new technologies are not introduced in a way that older people who experience more difficulty with new technologies would easily understand and adapt, which can lead them to be less satisfied with the bank's new services? Or maybe, the bank's advertisement strategy focus too much on young people and not speak to older people. As I said, the managers of the bank should think about the reasons that lead older people to exit the bank. \n",
        "\n",
        "*   We found that less active members of the bank has more chance to exit the bank compared to more active members. Therefore, the bank should find ways to make their members more active. Activity refers to using services or making transactions. More options like cash back, promotions, or discounts from popular companies would encourage customers to make more transaction and use services more frequently. \n",
        "\n",
        "*   We found that there might be some issues with the bank's branches in Germany, because the numbers of customers who exited the bank was significantly higher in Germany than that in Spain or France. The bank should further explore what is going on in Germany.\n",
        "\n",
        "\n",
        "\n"
      ],
      "metadata": {
        "id": "ZggEPSgDdeoi"
      }
    }
  ]
}
